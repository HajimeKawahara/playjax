{
 "cells": [
  {
   "cell_type": "code",
   "execution_count": 23,
   "metadata": {},
   "outputs": [],
   "source": [
    "import jax.numpy as jnp\n",
    "from jax.lax import scan\n",
    "from scipy.special import erfcx as sc_erfcx"
   ]
  },
  {
   "cell_type": "code",
   "execution_count": 5,
   "metadata": {},
   "outputs": [
    {
     "data": {
      "text/plain": [
       "3"
      ]
     },
     "execution_count": 5,
     "metadata": {},
     "output_type": "execute_result"
    }
   ],
   "source": [
    "#def scan(f, init, xs, length=None):\n",
    "#  if xs is None:\n",
    "#    xs = [None] * length\n",
    "#  carry = init\n",
    "#  ys = []\n",
    "#  for x in xs:\n",
    "#    carry, y = f(carry, x)\n",
    "#    ys.append(y)\n",
    "#  return carry, np.stack(ys)"
   ]
  },
  {
   "cell_type": "code",
   "execution_count": 33,
   "metadata": {},
   "outputs": [],
   "source": [
    "##CHECKING\n",
    "_CHEV_COEFS_=[5.92470169e-5,1.61224554e-4, -3.46481771e-4,-1.39681227e-3,1.20588380e-3, 8.69014394e-3,\n",
    "        -8.01387429e-3,-5.42122945e-2,1.64048523e-1,-1.66031078e-1, -9.27637145e-2, 2.76978403e-1]\n",
    "chev=jnp.array(_CHEV_COEFS_)\n",
    "    \n",
    "def fmaf(p,q,x):\n",
    "    return p*q + x\n",
    "\n",
    "def naive_scan(q):\n",
    "    p=chev[0]\n",
    "    for x in chev[1:]:\n",
    "        p=fmaf(p,q,x)\n",
    "    return p\n",
    "\n",
    "def jax_scan(q):\n",
    "    def fmascan(c,x):\n",
    "        return c*q + x,None\n",
    "    p,n = scan(fmascan, 0.0, chev)\n",
    "    return p"
   ]
  },
  {
   "cell_type": "code",
   "execution_count": 35,
   "metadata": {},
   "outputs": [
    {
     "data": {
      "text/plain": [
       "(DeviceArray(0.08934531, dtype=float32),\n",
       " DeviceArray(0.08934531, dtype=float32))"
      ]
     },
     "execution_count": 35,
     "metadata": {},
     "output_type": "execute_result"
    }
   ],
   "source": [
    "naive_scan(1.3), jax_scan(1.3)"
   ]
  },
  {
   "cell_type": "code",
   "execution_count": 42,
   "metadata": {},
   "outputs": [],
   "source": [
    "\n",
    "def erfcx(x):\n",
    "    \"\"\"\n",
    "    \"\"\"\n",
    "    a = max(x,0.0-x)\n",
    "    #a=x\n",
    "    q = (-a*(a-2.0)/(a+2.0)-2.0*((a-2.0)/(a+2.0)+1.0)+a)/(a+2.0) + (a-2.0)/(a+2.0)\n",
    "    \n",
    "    _CHEV_COEFS_=[5.92470169e-5,1.61224554e-4, -3.46481771e-4,-1.39681227e-3,1.20588380e-3, 8.69014394e-3,\n",
    "     -8.01387429e-3,-5.42122945e-2,1.64048523e-1,-1.66031078e-1, -9.27637145e-2, 2.76978403e-1]\n",
    "    chev=jnp.array(_CHEV_COEFS_)\n",
    "    def fmascan(c,x):\n",
    "        return c*q + x,None\n",
    "    p,n = scan(fmascan, 0.0, chev)\n",
    "\n",
    "    q = (p+1.0)/(1.0+2.0*a)\n",
    "    e = (p+1.0)-q*(1.0+2.0*a)\n",
    "    r = 0.5*e/(a+0.5) + q\n",
    "    return r"
   ]
  },
  {
   "cell_type": "code",
   "execution_count": 47,
   "metadata": {},
   "outputs": [
    {
     "data": {
      "text/plain": [
       "DeviceArray(0.42758358, dtype=float32)"
      ]
     },
     "execution_count": 47,
     "metadata": {},
     "output_type": "execute_result"
    }
   ],
   "source": [
    "#x=jnp.linspace(1.0,10.0,100)\n",
    "#for xe in x:\n",
    "#    print(erfcx(xe)-sc_erfcx(xe))\n",
    "erfcx(-1.0)"
   ]
  },
  {
   "cell_type": "code",
   "execution_count": null,
   "metadata": {},
   "outputs": [],
   "source": []
  }
 ],
 "metadata": {
  "kernelspec": {
   "display_name": "Python 3",
   "language": "python",
   "name": "python3"
  },
  "language_info": {
   "codemirror_mode": {
    "name": "ipython",
    "version": 3
   },
   "file_extension": ".py",
   "mimetype": "text/x-python",
   "name": "python",
   "nbconvert_exporter": "python",
   "pygments_lexer": "ipython3",
   "version": "3.7.3"
  }
 },
 "nbformat": 4,
 "nbformat_minor": 2
}
