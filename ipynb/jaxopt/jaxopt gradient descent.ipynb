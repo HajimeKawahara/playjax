{
 "cells": [
  {
   "cell_type": "code",
   "execution_count": 8,
   "id": "80cc9fd8",
   "metadata": {},
   "outputs": [],
   "source": [
    "import jaxopt \n",
    "import jax.numpy as jnp\n",
    "import numpy as np"
   ]
  },
  {
   "cell_type": "markdown",
   "id": "57ece63a",
   "metadata": {},
   "source": [
    "We optimize $ f(x; a) = (x - \\sin(a))^2 $ for $x$.\n",
    "it should be $x_\\ast=\\sin(a) \\equiv g(a)$"
   ]
  },
  {
   "cell_type": "code",
   "execution_count": 66,
   "id": "fa8e0ca8",
   "metadata": {},
   "outputs": [],
   "source": [
    "def f(x,a):\n",
    "    return (x-jnp.sin(a))**2"
   ]
  },
  {
   "cell_type": "code",
   "execution_count": 67,
   "id": "4a653345",
   "metadata": {},
   "outputs": [],
   "source": [
    "gd = jaxopt.GradientDescent(fun=f, maxiter=500)"
   ]
  },
  {
   "cell_type": "code",
   "execution_count": 68,
   "id": "cf9f420a",
   "metadata": {},
   "outputs": [],
   "source": [
    "def g(a):\n",
    "    res = gd.run(init_params=np.random.normal(0.0,1.0), a=a)\n",
    "    params, state = res\n",
    "    return params\n"
   ]
  },
  {
   "cell_type": "code",
   "execution_count": 69,
   "id": "e4892885",
   "metadata": {},
   "outputs": [
    {
     "data": {
      "text/plain": [
       "(DeviceArray(0.09983341, dtype=float32), 0.09983341664682815)"
      ]
     },
     "execution_count": 69,
     "metadata": {},
     "output_type": "execute_result"
    }
   ],
   "source": [
    "g(0.1),np.sin(0.1)"
   ]
  },
  {
   "cell_type": "code",
   "execution_count": 55,
   "id": "c9087942",
   "metadata": {},
   "outputs": [],
   "source": [
    "from jax import grad"
   ]
  },
  {
   "cell_type": "markdown",
   "id": "871dbc37",
   "metadata": {},
   "source": [
    "We compute $\\frac{\\partial}{\\partial a} x_\\mathrm{min} = \\frac{\\partial}{\\partial a} g(a)$, should be $dg(a) = \\cos(a)$."
   ]
  },
  {
   "cell_type": "code",
   "execution_count": 70,
   "id": "4479f9e3",
   "metadata": {},
   "outputs": [],
   "source": [
    "dg=grad(g)"
   ]
  },
  {
   "cell_type": "code",
   "execution_count": 72,
   "id": "47da1446",
   "metadata": {},
   "outputs": [
    {
     "data": {
      "text/plain": [
       "(DeviceArray(0.9800666, dtype=float32), 0.9800665778412416)"
      ]
     },
     "execution_count": 72,
     "metadata": {},
     "output_type": "execute_result"
    }
   ],
   "source": [
    "\n",
    "dg(-0.2),np.cos(-0.2)"
   ]
  },
  {
   "cell_type": "code",
   "execution_count": 73,
   "id": "69967e17",
   "metadata": {},
   "outputs": [],
   "source": [
    "dx=[]\n",
    "x=[]\n",
    "alist=np.linspace(-0.2,0.2,21)\n",
    "for ain in alist:\n",
    "    x.append(g(ain))\n",
    "    dx.append(dg(ain))"
   ]
  },
  {
   "cell_type": "code",
   "execution_count": 74,
   "id": "f82f2aef",
   "metadata": {},
   "outputs": [
    {
     "data": {
      "text/plain": [
       "[<matplotlib.lines.Line2D at 0x7f9f442e0b20>]"
      ]
     },
     "execution_count": 74,
     "metadata": {},
     "output_type": "execute_result"
    },
    {
     "data": {
      "image/png": "[encoded data removed]",
      "text/plain": [
       "<Figure size 432x288 with 1 Axes>"
      ]
     },
     "metadata": {
      "needs_background": "light"
     },
     "output_type": "display_data"
    }
   ],
   "source": [
    "import matplotlib.pyplot as plt\n",
    "plt.plot(alist,x)\n",
    "plt.plot(alist,dx)\n",
    "plt.plot(alist,np.cos(alist),\".\")"
   ]
  },
  {
   "cell_type": "code",
   "execution_count": null,
   "id": "621e85ef",
   "metadata": {},
   "outputs": [],
   "source": []
  }
 ],
 "metadata": {
  "kernelspec": {
   "display_name": "Python 3 (ipykernel)",
   "language": "python",
   "name": "python3"
  },
  "language_info": {
   "codemirror_mode": {
    "name": "ipython",
    "version": 3
   },
   "file_extension": ".py",
   "mimetype": "text/x-python",
   "name": "python",
   "nbconvert_exporter": "python",
   "pygments_lexer": "ipython3",
   "version": "3.8.8"
  }
 },
 "nbformat": 4,
 "nbformat_minor": 5
}
