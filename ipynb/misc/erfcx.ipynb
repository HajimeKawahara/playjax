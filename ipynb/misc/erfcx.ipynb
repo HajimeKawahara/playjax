{
 "cells": [
  {
   "cell_type": "code",
   "execution_count": 50,
   "metadata": {},
   "outputs": [],
   "source": [
    "import jax.numpy as jnp\n",
    "from jax import jit\n",
    "from jax.lax import scan\n",
    "from scipy.special import erfcx as sc_erfcx\n",
    "from scipy.special import erfc as sc_erfc\n",
    "from scipy.special import erf as sc_erf\n",
    "from scipy.special import wofz as sc_wofz\n",
    "from jax.scipy.special import erfc\n",
    "from jax.scipy.special import erf\n",
    "import numpy as np"
   ]
  },
  {
   "cell_type": "code",
   "execution_count": 5,
   "metadata": {},
   "outputs": [
    {
     "data": {
      "text/plain": [
       "3"
      ]
     },
     "execution_count": 5,
     "metadata": {},
     "output_type": "execute_result"
    }
   ],
   "source": [
    "#def scan(f, init, xs, length=None):\n",
    "#  if xs is None:\n",
    "#    xs = [None] * length\n",
    "#  carry = init\n",
    "#  ys = []\n",
    "#  for x in xs:\n",
    "#    carry, y = f(carry, x)\n",
    "#    ys.append(y)\n",
    "#  return carry, np.stack(ys)"
   ]
  },
  {
   "cell_type": "code",
   "execution_count": 2,
   "metadata": {},
   "outputs": [],
   "source": [
    "##CHECKING\n",
    "_CHEV_COEFS_=[5.92470169e-5,1.61224554e-4, -3.46481771e-4,-1.39681227e-3,1.20588380e-3, 8.69014394e-3,\n",
    "        -8.01387429e-3,-5.42122945e-2,1.64048523e-1,-1.66031078e-1, -9.27637145e-2, 2.76978403e-1]\n",
    "chev=jnp.array(_CHEV_COEFS_)\n",
    "    \n",
    "def fmaf(p,q,x):\n",
    "    return p*q + x\n",
    "\n",
    "def naive_scan(q):\n",
    "    p=chev[0]\n",
    "    for x in chev[1:]:\n",
    "        p=fmaf(p,q,x)\n",
    "    return p\n",
    "\n",
    "def jax_scan(q):\n",
    "    def fmascan(c,x):\n",
    "        return c*q + x,None\n",
    "    p,n = scan(fmascan, 0.0, chev)\n",
    "    return p"
   ]
  },
  {
   "cell_type": "code",
   "execution_count": 35,
   "metadata": {},
   "outputs": [
    {
     "data": {
      "text/plain": [
       "(DeviceArray(0.08934531, dtype=float32),\n",
       " DeviceArray(0.08934531, dtype=float32))"
      ]
     },
     "execution_count": 35,
     "metadata": {},
     "output_type": "execute_result"
    }
   ],
   "source": [
    "naive_scan(1.3), jax_scan(1.3)"
   ]
  },
  {
   "cell_type": "code",
   "execution_count": 63,
   "metadata": {},
   "outputs": [
    {
     "data": {
      "text/plain": [
       "DeviceArray(1, dtype=int32)"
      ]
     },
     "execution_count": 63,
     "metadata": {},
     "output_type": "execute_result"
    }
   ],
   "source": [
    "jnp.abs(-1)"
   ]
  },
  {
   "cell_type": "code",
   "execution_count": 146,
   "metadata": {},
   "outputs": [],
   "source": [
    "@jit\n",
    "def erfcx(x):\n",
    "    \"\"\"erfcx (float) based on Shepherd and Laframboise (1981)\n",
    "    \n",
    "    Params:\n",
    "        x: should be larger than -9.3\n",
    "        \n",
    "    Return:\n",
    "        f: erfcx(x)\n",
    "    \"\"\"\n",
    "    a=jnp.abs(x)\n",
    "    q = (-a*(a-2.0)/(a+2.0)-2.0*((a-2.0)/(a+2.0)+1.0)+a)/(a+2.0) + (a-2.0)/(a+2.0)\n",
    "    \n",
    "    _CHEV_COEFS_=[5.92470169e-5,1.61224554e-4, -3.46481771e-4,-1.39681227e-3,1.20588380e-3, 8.69014394e-3,\n",
    "     -8.01387429e-3,-5.42122945e-2,1.64048523e-1,-1.66031078e-1, -9.27637145e-2, 2.76978403e-1]\n",
    "    chev=jnp.array(_CHEV_COEFS_)\n",
    "    def fmascan(c,x):\n",
    "        return c*q + x,None\n",
    "    p,n = scan(fmascan, 0.0, chev)\n",
    "\n",
    "    q = (p+1.0)/(1.0+2.0*a)\n",
    "    d = (p+1.0)-q*(1.0+2.0*a)\n",
    "    f = 0.5*d/(a+0.5) + q\n",
    "    \n",
    "    f=jnp.where(x>=0.0, f, 2.0*jnp.exp(a**2) - f) \n",
    "    \n",
    "    return f"
   ]
  },
  {
   "cell_type": "code",
   "execution_count": 162,
   "metadata": {},
   "outputs": [
    {
     "data": {
      "text/plain": [
       "(DeviceArray(17772222., dtype=float32), 17772220.904016286)"
      ]
     },
     "execution_count": 162,
     "metadata": {},
     "output_type": "execute_result"
    }
   ],
   "source": [
    "erfcx(-4.0),sc_erfcx(-4.0)"
   ]
  },
  {
   "cell_type": "code",
   "execution_count": 78,
   "metadata": {},
   "outputs": [
    {
     "name": "stdout",
     "output_type": "stream",
     "text": [
      "857 µs ± 124 µs per loop (mean ± std. dev. of 7 runs, 1000 loops each)\n"
     ]
    }
   ],
   "source": [
    "%timeit erfcx(1.0)"
   ]
  },
  {
   "cell_type": "code",
   "execution_count": 16,
   "metadata": {},
   "outputs": [
    {
     "name": "stdout",
     "output_type": "stream",
     "text": [
      "830 ns ± 63.7 ns per loop (mean ± std. dev. of 7 runs, 1000000 loops each)\n"
     ]
    }
   ],
   "source": [
    "%timeit sc_erfcx(1.0)"
   ]
  },
  {
   "cell_type": "code",
   "execution_count": 184,
   "metadata": {},
   "outputs": [],
   "source": [
    "N=1000\n",
    "xv=jnp.linspace(-10.0,100.0,N)\n",
    "xvc=np.linspace(-10.0,100.0,N)"
   ]
  },
  {
   "cell_type": "code",
   "execution_count": 156,
   "metadata": {},
   "outputs": [
    {
     "name": "stdout",
     "output_type": "stream",
     "text": [
      "The slowest run took 4.06 times longer than the fastest. This could mean that an intermediate result is being cached.\n",
      "1.57 ms ± 613 µs per loop (mean ± std. dev. of 7 runs, 1 loop each)\n"
     ]
    }
   ],
   "source": [
    "verfcx=vmap(erfcx)\n",
    "%timeit verfcx(xv)"
   ]
  },
  {
   "cell_type": "code",
   "execution_count": 157,
   "metadata": {},
   "outputs": [
    {
     "name": "stdout",
     "output_type": "stream",
     "text": [
      "35.5 µs ± 5.31 µs per loop (mean ± std. dev. of 7 runs, 10000 loops each)\n"
     ]
    }
   ],
   "source": [
    "%timeit sc_erfc(xvc)"
   ]
  },
  {
   "cell_type": "code",
   "execution_count": 185,
   "metadata": {},
   "outputs": [],
   "source": [
    "d=(verfcx(xv) - sc_erfcx(xvc))/ sc_erfcx(xvc)"
   ]
  },
  {
   "cell_type": "code",
   "execution_count": 195,
   "metadata": {},
   "outputs": [
    {
     "data": {
      "text/plain": [
       "Text(0.5, 0, 'x')"
      ]
     },
     "execution_count": 195,
     "metadata": {},
     "output_type": "execute_result"
    },
    {
     "data": {
      "image/png": "[encoded data removed]",
      "text/plain": [
       "<Figure size 432x288 with 2 Axes>"
      ]
     },
     "metadata": {
      "needs_background": "light"
     },
     "output_type": "display_data"
    }
   ],
   "source": [
    "fig=plt.figure()\n",
    "ax=fig.add_subplot(211)\n",
    "ax.plot(xvc,d)\n",
    "plt.ylabel(\"(this - scipy)/scipy\")\n",
    "ax=fig.add_subplot(212)\n",
    "ax.plot(xvc,jnp.abs(d))\n",
    "plt.ylabel(\"|(this - scipy)/scipy|\")\n",
    "plt.yscale(\"log\")\n",
    "plt.xlabel(\"x\")\n",
    "#plt.yscale(\"log\")\n",
    "#plt.ylim(1.e-12,1.e3)"
   ]
  },
  {
   "cell_type": "code",
   "execution_count": 193,
   "metadata": {},
   "outputs": [
    {
     "data": {
      "text/plain": [
       "DeviceArray(7.297299e+37, dtype=float32)"
      ]
     },
     "execution_count": 193,
     "metadata": {},
     "output_type": "execute_result"
    }
   ],
   "source": [
    "erfcx(-9.3)"
   ]
  },
  {
   "cell_type": "code",
   "execution_count": null,
   "metadata": {},
   "outputs": [],
   "source": []
  }
 ],
 "metadata": {
  "kernelspec": {
   "display_name": "Python 3",
   "language": "python",
   "name": "python3"
  },
  "language_info": {
   "codemirror_mode": {
    "name": "ipython",
    "version": 3
   },
   "file_extension": ".py",
   "mimetype": "text/x-python",
   "name": "python",
   "nbconvert_exporter": "python",
   "pygments_lexer": "ipython3",
   "version": "3.7.3"
  }
 },
 "nbformat": 4,
 "nbformat_minor": 2
}
