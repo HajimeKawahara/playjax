{
 "cells": [
  {
   "cell_type": "markdown",
   "metadata": {},
   "source": [
    "VJP for $h(x)=\\sin{x}$"
   ]
  },
  {
   "cell_type": "code",
   "execution_count": 1,
   "metadata": {},
   "outputs": [],
   "source": [
    "import jax.numpy as jnp\n",
    "from jax import custom_vjp\n",
    "\n",
    "@custom_vjp\n",
    "def h(x):\n",
    "    return jnp.sin(x)\n",
    "\n",
    "def h_fwd(x):\n",
    "    return h(x), jnp.cos(x)\n",
    "\n",
    "def h_bwd(res, u):\n",
    "    cos_x  = res \n",
    "    return (cos_x * u,)\n",
    "\n",
    "h.defvjp(h_fwd, h_bwd)\n",
    "\n",
    "from jax import grad, vmap\n",
    "gv=vmap(grad(h))\n",
    "hv=vmap(h)"
   ]
  },
  {
   "cell_type": "code",
   "execution_count": 2,
   "metadata": {},
   "outputs": [
    {
     "name": "stderr",
     "output_type": "stream",
     "text": [
      "WARNING:absl:No GPU/TPU found, falling back to CPU. (Set TF_CPP_MIN_LOG_LEVEL=0 and rerun for more info.)\n"
     ]
    },
    {
     "name": "stdout",
     "output_type": "stream",
     "text": [
      "[-0.84147096 -0.7016979  -0.5274154  -0.32719466 -0.11088265  0.11088268\n",
      "  0.32719472  0.5274154   0.7016979   0.84147096] [0.5403023  0.71247464 0.8496075  0.94495696 0.9938335  0.9938335\n",
      " 0.94495696 0.8496075  0.71247464 0.5403023 ]\n"
     ]
    }
   ],
   "source": [
    "xv=jnp.linspace(-1,1,10)\n",
    "print(hv(xv),gv(xv))"
   ]
  },
  {
   "cell_type": "code",
   "execution_count": 3,
   "metadata": {},
   "outputs": [
    {
     "data": {
      "text/plain": [
       "<Figure size 640x480 with 1 Axes>"
      ]
     },
     "metadata": {},
     "output_type": "display_data"
    }
   ],
   "source": [
    "import matplotlib.pyplot as plt\n",
    "import numpy as np\n",
    "np.random.seed(32)\n",
    "sigin=0.3\n",
    "N=20\n",
    "x=np.sort(np.random.rand(N))*4*np.pi\n",
    "data=hv(x)+np.random.normal(0,sigin,size=N)\n",
    "\n",
    "plt.plot(x,data,\".\")\n",
    "plt.savefig(\"test.png\")\n",
    "plt.show()"
   ]
  },
  {
   "cell_type": "code",
   "execution_count": 4,
   "metadata": {},
   "outputs": [],
   "source": [
    "import jax.numpy as jnp\n",
    "import numpyro\n",
    "import numpyro.distributions as dist\n",
    "\n",
    "def model(x,y):\n",
    "    sigma = numpyro.sample('sigma', dist.Exponential(1.))\n",
    "    x0 = numpyro.sample('x0', dist.Uniform(-1.,1.))\n",
    "    #mu=jnp.sin(x-x0)\n",
    "    #mu=hv(x-x0)\n",
    "    mu=h(x-x0)\n",
    "    numpyro.sample('y', dist.Normal(mu, sigma), obs=y)"
   ]
  },
  {
   "cell_type": "code",
   "execution_count": 5,
   "metadata": {},
   "outputs": [
    {
     "name": "stderr",
     "output_type": "stream",
     "text": [
      "sample: 100%|██████████| 3000/3000 [00:10<00:00, 280.58it/s, 7 steps of size 7.98e-01. acc. prob=0.92]\n"
     ]
    },
    {
     "name": "stdout",
     "output_type": "stream",
     "text": [
      "\n",
      "                mean       std    median      5.0%     95.0%     n_eff     r_hat\n",
      "     sigma      0.35      0.06      0.34      0.26      0.45   1014.77      1.00\n",
      "        x0      0.07      0.11      0.07     -0.10      0.26   1028.72      1.00\n",
      "\n",
      "Number of divergences: 0\n"
     ]
    }
   ],
   "source": [
    "from jax import random\n",
    "from numpyro.infer import MCMC, NUTS\n",
    "\n",
    "rng_key = random.PRNGKey(0)\n",
    "rng_key, rng_key_ = random.split(rng_key)\n",
    "num_warmup, num_samples = 1000, 2000\n",
    "kernel = NUTS(model)\n",
    "mcmc = MCMC(kernel, num_warmup, num_samples)\n",
    "mcmc.run(rng_key_, x=x, y=data)\n",
    "mcmc.print_summary()"
   ]
  },
  {
   "cell_type": "markdown",
   "metadata": {},
   "source": [
    "VJP $h(x,y)=A \\sin{x}$"
   ]
  },
  {
   "cell_type": "code",
   "execution_count": 6,
   "metadata": {},
   "outputs": [],
   "source": [
    "from jax import custom_vjp, vmap, grad\n",
    "import jax.numpy as jnp\n",
    "@custom_vjp\n",
    "def h(x,A):\n",
    "    return A*jnp.sin(x)\n",
    "\n",
    "def h_fwd(x, A):\n",
    "    res = (A*jnp.cos(x), jnp.sin(x))\n",
    "    return h(x,A), res\n",
    "\n",
    "def h_bwd(res, u):\n",
    "    A_cos_x, sin_x = res\n",
    "    return (A_cos_x * u, sin_x * u)\n",
    "\n",
    "h.defvjp(h_fwd, h_bwd)\n",
    "\n",
    "gv=vmap(grad(h),(0,None),0)\n",
    "gav=vmap(grad(h),(None,0),0)\n",
    "hv=vmap(h,(0,None),0)"
   ]
  },
  {
   "cell_type": "code",
   "execution_count": 7,
   "metadata": {},
   "outputs": [
    {
     "data": {
      "image/png": "[encoded data removed]",
      "text/plain": [
       "<Figure size 432x288 with 1 Axes>"
      ]
     },
     "metadata": {
      "needs_background": "light"
     },
     "output_type": "display_data"
    }
   ],
   "source": [
    "import matplotlib.pyplot as plt\n",
    "import numpy as np\n",
    "np.random.seed(32)\n",
    "sigin=1.0\n",
    "N=20\n",
    "x=np.sort(np.random.rand(N))*4*np.pi\n",
    "data=hv(x,1.0)+np.random.normal(0,sigin,size=N)\n",
    "\n",
    "plt.plot(x,data,\".\")\n",
    "plt.savefig(\"test.png\")\n",
    "plt.show()"
   ]
  },
  {
   "cell_type": "code",
   "execution_count": 8,
   "metadata": {},
   "outputs": [],
   "source": [
    "import jax.numpy as jnp\n",
    "import numpyro\n",
    "import numpyro.distributions as dist\n",
    "\n",
    "def model(x,y):\n",
    "    sigma = numpyro.sample('sigma', dist.Exponential(1.))\n",
    "    x0 = numpyro.sample('x0', dist.Uniform(-1.,1.))\n",
    "    A = numpyro.sample('A', dist.Exponential(1.))\n",
    "    hv=vmap(h,(0,None),0)\n",
    "    mu=hv(x-x0,A)\n",
    "    #mu=A*jnp.sin(x-x0)\n",
    "    numpyro.sample('y', dist.Normal(mu, sigma), obs=y)"
   ]
  },
  {
   "cell_type": "code",
   "execution_count": 11,
   "metadata": {},
   "outputs": [
    {
     "name": "stderr",
     "output_type": "stream",
     "text": [
      "sample: 100%|██████████| 3000/3000 [00:06<00:00, 439.62it/s, 7 steps of size 6.67e-01. acc. prob=0.89] \n"
     ]
    },
    {
     "name": "stdout",
     "output_type": "stream",
     "text": [
      "\n",
      "                mean       std    median      5.0%     95.0%     n_eff     r_hat\n",
      "         A      1.34      0.36      1.35      0.76      1.91   1038.63      1.00\n",
      "     sigma      1.12      0.20      1.09      0.82      1.43    989.39      1.00\n",
      "        x0      0.21      0.28      0.24     -0.27      0.64   1577.08      1.00\n",
      "\n",
      "Number of divergences: 0\n"
     ]
    }
   ],
   "source": [
    "from jax import random\n",
    "from numpyro.infer import MCMC, NUTS\n",
    "\n",
    "# Start from this source of randomness. We will split keys for subsequent operations.\n",
    "rng_key = random.PRNGKey(0)\n",
    "rng_key, rng_key_ = random.split(rng_key)\n",
    "num_warmup, num_samples = 1000, 2000\n",
    "kernel = NUTS(model)\n",
    "#kernel = NUTS(model,forward_mode_differentiation=True)\n",
    "mcmc = MCMC(kernel, num_warmup, num_samples)\n",
    "mcmc.run(rng_key_, x=x, y=data)\n",
    "mcmc.print_summary()"
   ]
  },
  {
   "cell_type": "code",
   "execution_count": 10,
   "metadata": {},
   "outputs": [],
   "source": [
    "#Primitiveから構成する\n",
    "#see https://jax.readthedocs.io/en/latest/notebooks/How_JAX_primitives_work.html\n",
    "from jax import core\n",
    "from jax.interpreters import ad\n",
    "import numpy as np  \n",
    "from jax.core import Primitive\n",
    "from jax.interpreters.ad import defvjp\n",
    "from jax.interpreters import batching\n",
    "from jax import abstract_arrays\n",
    "from jax.lib import xla_client\n",
    "from jax.interpreters import xla\n",
    "\n",
    "def h(x):\n",
    "    return jnp.sin(x)\n",
    "\n",
    "def dh(x):\n",
    "    return jnp.cos(x)\n",
    "\n",
    "def udsin(x):\n",
    "    return foo_p.bind(x)\n",
    "foo_p = Primitive('udsin')\n",
    "foo_p.def_impl(h)\n",
    "\n",
    "def dudsin(g, x):\n",
    "    return g*dh(x)\n",
    "defvjp(foo_p, dudsin)\n",
    "\n",
    "#vmapを使うためにはbatching ruleが必要\n",
    "def foo_batch(vector_arg_values, batch_axes):\n",
    "    res = udsin(*vector_arg_values)\n",
    "    return res, batch_axes[0]\n",
    "\n",
    "batching.primitive_batchers[foo_p] = foo_batch\n",
    "\n",
    "#jitを使うためにはabstract evaluation ruleが必要\n",
    "def foobar_abstract_eval(xs):\n",
    "    return abstract_arrays.ShapedArray(xs.shape, xs.dtype)\n",
    "\n",
    "foo_p.def_abstract_eval(foobar_abstract_eval)\n",
    "\n",
    "# jitを使うにはXLA compilation ruleも必要\n",
    "# xla_client.pyはtensorflowのもの\n",
    "def foo_xla_translation(c, xc):\n",
    "    return xla_client.ops.Sin(xc)\n",
    "xla.backend_specific_translations['gpu'][foo_p] = foo_xla_translation"
   ]
  },
  {
   "cell_type": "code",
   "execution_count": 11,
   "metadata": {},
   "outputs": [],
   "source": [
    "import jax.numpy as jnp\n",
    "import numpyro\n",
    "import numpyro.distributions as dist\n",
    "\n",
    "def model(x,y):\n",
    "    sigma = numpyro.sample('sigma', dist.Exponential(1.))\n",
    "    x0 = numpyro.sample('x0', dist.Uniform(-1.,1.))\n",
    "    mu=udsin(x-x0)\n",
    "    numpyro.sample('y', dist.Normal(mu, sigma), obs=y)"
   ]
  },
  {
   "cell_type": "code",
   "execution_count": 12,
   "metadata": {},
   "outputs": [
    {
     "name": "stderr",
     "output_type": "stream",
     "text": [
      "sample: 100%|██████████| 3000/3000 [00:09<00:00, 314.33it/s, 3 steps of size 8.56e-01. acc. prob=0.92]\n"
     ]
    },
    {
     "name": "stdout",
     "output_type": "stream",
     "text": [
      "\n",
      "                mean       std    median      5.0%     95.0%     n_eff     r_hat\n",
      "     sigma      0.35      0.06      0.34      0.25      0.45    992.06      1.00\n",
      "        x0      0.07      0.12      0.07     -0.11      0.27   1498.10      1.00\n",
      "\n",
      "Number of divergences: 0\n"
     ]
    }
   ],
   "source": [
    "from jax import random\n",
    "from numpyro.infer import MCMC, NUTS\n",
    "\n",
    "# Start from this source of randomness. We will split keys for subsequent operations.\n",
    "rng_key = random.PRNGKey(0)\n",
    "rng_key, rng_key_ = random.split(rng_key)\n",
    "num_warmup, num_samples = 1000, 2000\n",
    "# Run NUTS.\n",
    "kernel = NUTS(model)\n",
    "mcmc = MCMC(kernel, num_warmup, num_samples)\n",
    "mcmc.run(rng_key_, x=x, y=data)\n",
    "mcmc.print_summary()"
   ]
  },
  {
   "cell_type": "code",
   "execution_count": null,
   "metadata": {},
   "outputs": [],
   "source": []
  }
 ],
 "metadata": {
  "kernelspec": {
   "display_name": "Python 3",
   "language": "python",
   "name": "python3"
  },
  "language_info": {
   "codemirror_mode": {
    "name": "ipython",
    "version": 3
   },
   "file_extension": ".py",
   "mimetype": "text/x-python",
   "name": "python",
   "nbconvert_exporter": "python",
   "pygments_lexer": "ipython3",
   "version": "3.7.3"
  }
 },
 "nbformat": 4,
 "nbformat_minor": 2
}
