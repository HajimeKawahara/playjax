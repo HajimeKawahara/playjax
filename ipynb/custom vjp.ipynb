{
 "cells": [
  {
   "cell_type": "code",
   "execution_count": 7,
   "metadata": {},
   "outputs": [],
   "source": [
    "\n",
    "import jax.numpy as jnp\n",
    "from jax import grad, vmap"
   ]
  },
  {
   "cell_type": "code",
   "execution_count": 10,
   "metadata": {},
   "outputs": [],
   "source": [
    "from jax import custom_vjp\n",
    "@custom_vjp\n",
    "def h(x, y):\n",
    "    return jnp.sin(x) * y\n",
    "\n",
    "\n",
    "def h_fwd(x, y):\n",
    "    return h(x, y), (jnp.cos(x), jnp.sin(x), y)\n",
    "\n",
    "def h_bwd(res, u):\n",
    "    cos_x, sin_x, y = res \n",
    "    return (y * cos_x * u, sin_x * u)\n",
    "\n",
    "\n",
    "h.defvjp(h_fwd, h_bwd)\n",
    "\n",
    "g=grad(h,argnums=(0,))\n",
    "gv=vmap(grad(h,argnums=(0,1)),(0,None),0)"
   ]
  },
  {
   "cell_type": "code",
   "execution_count": 12,
   "metadata": {},
   "outputs": [
    {
     "data": {
      "text/plain": [
       "(DeviceArray(0.5403023, dtype=float32),)"
      ]
     },
     "execution_count": 12,
     "metadata": {},
     "output_type": "execute_result"
    }
   ],
   "source": [
    "g(1.0,1.0)"
   ]
  },
  {
   "cell_type": "code",
   "execution_count": null,
   "metadata": {},
   "outputs": [],
   "source": []
  }
 ],
 "metadata": {
  "kernelspec": {
   "display_name": "Python 3",
   "language": "python",
   "name": "python3"
  },
  "language_info": {
   "codemirror_mode": {
    "name": "ipython",
    "version": 3
   },
   "file_extension": ".py",
   "mimetype": "text/x-python",
   "name": "python",
   "nbconvert_exporter": "python",
   "pygments_lexer": "ipython3",
   "version": "3.7.3"
  }
 },
 "nbformat": 4,
 "nbformat_minor": 2
}
