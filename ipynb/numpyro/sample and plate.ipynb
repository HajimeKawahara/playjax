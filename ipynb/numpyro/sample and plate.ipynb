{
 "cells": [
  {
   "cell_type": "code",
   "execution_count": 6,
   "id": "fd4b1ff2",
   "metadata": {},
   "outputs": [],
   "source": [
    "import numpyro.distributions as dist\n",
    "from numpyro import plate,sample\n",
    "from jax import random\n",
    "from numpyro import handlers"
   ]
  },
  {
   "cell_type": "code",
   "execution_count": 2,
   "id": "7443e865",
   "metadata": {},
   "outputs": [],
   "source": [
    "xs = sample(\"x\",dist.Normal(0,1),rng_key=random.PRNGKey(20))"
   ]
  },
  {
   "cell_type": "code",
   "execution_count": 3,
   "id": "33c18af4",
   "metadata": {},
   "outputs": [
    {
     "data": {
      "text/plain": [
       "DeviceArray(-0.7446246, dtype=float32)"
      ]
     },
     "execution_count": 3,
     "metadata": {},
     "output_type": "execute_result"
    }
   ],
   "source": [
    "xs"
   ]
  },
  {
   "cell_type": "code",
   "execution_count": 20,
   "id": "d732700a",
   "metadata": {},
   "outputs": [],
   "source": [
    "def model():\n",
    "    #sample(\"X\",dist.Normal(0,1))\n",
    "    with plate(\"p\",size=100000):\n",
    "        sample(\"x\",dist.Normal(0,1))"
   ]
  },
  {
   "cell_type": "code",
   "execution_count": 21,
   "id": "e82912a6",
   "metadata": {},
   "outputs": [],
   "source": [
    "exec_trace =  handlers.trace( handlers.seed(model, random.PRNGKey(0))).get_trace()"
   ]
  },
  {
   "cell_type": "code",
   "execution_count": 22,
   "id": "9ec2bf41",
   "metadata": {},
   "outputs": [
    {
     "name": "stdout",
     "output_type": "stream",
     "text": [
      "OrderedDict([('p',\n",
      "              {'args': (100000, None),\n",
      "               'cond_indep_stack': [],\n",
      "               'fn': <function _subsample_fn at 0x7f4cdc0f23a0>,\n",
      "               'kwargs': {'rng_key': None},\n",
      "               'name': 'p',\n",
      "               'scale': 1.0,\n",
      "               'type': 'plate',\n",
      "               'value': DeviceArray([    0,     1,     2, ..., 99997, 99998, 99999], dtype=int32)}),\n",
      "             ('x',\n",
      "              {'args': (),\n",
      "               'cond_indep_stack': [CondIndepStackFrame(name='p', dim=-1, size=100000)],\n",
      "               'fn': <numpyro.distributions.distribution.ExpandedDistribution object at 0x7f4c20483520>,\n",
      "               'infer': {},\n",
      "               'intermediates': [],\n",
      "               'is_observed': False,\n",
      "               'kwargs': {'rng_key': array([2718843009, 1272950319], dtype=uint32),\n",
      "                          'sample_shape': ()},\n",
      "               'name': 'x',\n",
      "               'scale': None,\n",
      "               'type': 'sample',\n",
      "               'value': DeviceArray([-0.7435652 , -0.13170338,  0.7662643 , ...,  0.09295956,\n",
      "             -0.3756685 , -0.12857954], dtype=float32)})])\n"
     ]
    }
   ],
   "source": [
    "import pprint as pp\n",
    "pp.pprint(exec_trace) "
   ]
  },
  {
   "cell_type": "code",
   "execution_count": 23,
   "id": "f5e09947",
   "metadata": {},
   "outputs": [],
   "source": [
    "xs=exec_trace[\"x\"][\"value\"]\n"
   ]
  },
  {
   "cell_type": "code",
   "execution_count": 24,
   "id": "849806a4",
   "metadata": {},
   "outputs": [
    {
     "data": {
      "image/png": "[encoded data removed]",
      "text/plain": [
       "<Figure size 432x288 with 1 Axes>"
      ]
     },
     "metadata": {
      "needs_background": "light"
     },
     "output_type": "display_data"
    }
   ],
   "source": [
    "import matplotlib.pyplot as plt\n",
    "plt.hist(xs,bins=100)\n",
    "plt.show()"
   ]
  },
  {
   "cell_type": "code",
   "execution_count": null,
   "id": "343af9ba",
   "metadata": {},
   "outputs": [],
   "source": []
  }
 ],
 "metadata": {
  "kernelspec": {
   "display_name": "Python 3 (ipykernel)",
   "language": "python",
   "name": "python3"
  },
  "language_info": {
   "codemirror_mode": {
    "name": "ipython",
    "version": 3
   },
   "file_extension": ".py",
   "mimetype": "text/x-python",
   "name": "python",
   "nbconvert_exporter": "python",
   "pygments_lexer": "ipython3",
   "version": "3.8.8"
  }
 },
 "nbformat": 4,
 "nbformat_minor": 5
}
