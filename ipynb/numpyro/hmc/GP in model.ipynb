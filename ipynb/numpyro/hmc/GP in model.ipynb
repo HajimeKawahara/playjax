{
 "cells": [
  {
   "cell_type": "code",
   "execution_count": 1,
   "id": "29e093fc",
   "metadata": {},
   "outputs": [],
   "source": [
    "import numpy as np\n",
    "import matplotlib .pyplot as plt\n",
    "from scipy.stats import multivariate_normal as smn\n",
    "#from jax.scipy.stats import multivariate_normal as jmn\n",
    "#from jax import random\n",
    "import scipy\n",
    "import jax.numpy as jnp\n",
    "import numpyro.distributions as dist\n",
    "from numpyro.infer import MCMC, NUTS\n",
    "from jax import random\n",
    "import numpyro"
   ]
  },
  {
   "cell_type": "code",
   "execution_count": 2,
   "id": "0f443839",
   "metadata": {},
   "outputs": [],
   "source": [
    "NP=10"
   ]
  },
  {
   "cell_type": "code",
   "execution_count": 3,
   "id": "befcd926",
   "metadata": {},
   "outputs": [],
   "source": [
    "smalla=1.0\n",
    "smalldiag=smalla**2*jnp.identity(NP)\n",
    "\n",
    "def modelcov(t,tau,a):\n",
    "    fac=1.e-5\n",
    "    Dt = t - jnp.array([t]).T\n",
    "    amp=a\n",
    "    K=amp*jnp.exp(-(Dt)**2/2/(tau**2))+amp*fac*jnp.identity(NP)\n",
    "    return K\n"
   ]
  },
  {
   "cell_type": "code",
   "execution_count": 4,
   "id": "26e77bf5",
   "metadata": {},
   "outputs": [],
   "source": [
    "def RBF(t,tau):\n",
    "    Dt = t - np.array([t]).T\n",
    "    K=np.exp(-(Dt)**2/2/(tau**2))\n",
    "    return K\n"
   ]
  },
  {
   "cell_type": "code",
   "execution_count": 5,
   "id": "0f28b748",
   "metadata": {},
   "outputs": [
    {
     "data": {
      "text/plain": [
       "DeviceArray([0.        , 0.1       , 0.2       , 0.3       , 0.4       ,\n",
       "             0.5       , 0.6       , 0.7       , 0.8       , 0.90000004],            dtype=float32)"
      ]
     },
     "execution_count": 5,
     "metadata": {},
     "output_type": "execute_result"
    }
   ],
   "source": [
    "ONEARR=jnp.zeros_like(NP)\n",
    "xL=1.0\n",
    "xarr=jnp.arange(0,xL,xL/NP)\n",
    "xarr"
   ]
  },
  {
   "cell_type": "code",
   "execution_count": 6,
   "id": "a2f2267d",
   "metadata": {},
   "outputs": [],
   "source": [
    "okey = random.PRNGKey(0)\n",
    "#okey,key=random.split(okey)\n",
    "cov=modelcov(xarr,2.0,1.0)\n",
    "Tarr=numpyro.sample(\"Tarr\", dist.MultivariateNormal(loc=ONEARR, covariance_matrix=cov),rng_key=okey)"
   ]
  },
  {
   "cell_type": "code",
   "execution_count": 7,
   "id": "44db858d",
   "metadata": {},
   "outputs": [],
   "source": [
    "def f(x,y):\n",
    "    return y/(x+0.1)"
   ]
  },
  {
   "cell_type": "code",
   "execution_count": 14,
   "id": "06eda968",
   "metadata": {},
   "outputs": [
    {
     "data": {
      "text/plain": [
       "[<matplotlib.lines.Line2D at 0x7fba6c3a3280>]"
      ]
     },
     "execution_count": 14,
     "metadata": {},
     "output_type": "execute_result"
    },
    {
     "data": {
      "image/png": "[encoded data removed]",
      "text/plain": [
       "<Figure size 432x288 with 1 Axes>"
      ]
     },
     "metadata": {
      "needs_background": "light"
     },
     "output_type": "display_data"
    }
   ],
   "source": [
    "noise=np.random.normal(0.0,0.1,len(Tarr))\n",
    "dobs=f(xarr,Tarr)+noise\n",
    "plt.plot(xarr,dobs,\".\")\n",
    "plt.plot(xarr,f(xarr,Tarr),\".\")\n",
    "#plt.plot(xarr,Tarr+,\".\")"
   ]
  },
  {
   "cell_type": "code",
   "execution_count": 46,
   "id": "bb283bb3",
   "metadata": {},
   "outputs": [],
   "source": [
    "import jax.numpy as jnp\n",
    "import numpyro\n",
    "import numpyro.distributions as dist\n",
    "\n",
    "def model(x,y):\n",
    "    phase = numpyro.sample('phase', dist.Uniform(-0.5,0.5))\n",
    "    sigma = numpyro.sample('sigma', dist.Exponential(1.))\n",
    "    #lntau = numpyro.sample('lntau', dist.Uniform(0.0,1.0))\n",
    "    #tau=10**lntau\n",
    "    #lna = numpyro.sample('lna', dist.Uniform(-1.0,1.0))\n",
    "    #a=10**lna\n",
    "    cov=modelcov(x,2.0,1.0)\n",
    "    #cov=modelcov(x,tau,a)\n",
    "    Tarr = numpyro.sample(\"Tarr\", dist.MultivariateNormal(loc=ONEARR, covariance_matrix=cov))\n",
    "    mu=Tarr/(x+phase)\n",
    "    d=numpyro.sample('y', dist.Normal(mu, sigma), obs=y)\n",
    "    return d"
   ]
  },
  {
   "cell_type": "code",
   "execution_count": 47,
   "id": "7ffffa84",
   "metadata": {},
   "outputs": [
    {
     "name": "stderr",
     "output_type": "stream",
     "text": [
      "sample: 100%|████████████████████████████| 3000/3000 [01:08<00:00, 43.66it/s, 95 steps of size 4.40e-02. acc. prob=0.88]\n"
     ]
    },
    {
     "name": "stdout",
     "output_type": "stream",
     "text": [
      "\n",
      "                mean       std    median      5.0%     95.0%     n_eff     r_hat\n",
      "   Tarr[0]     -0.43      0.08     -0.42     -0.55     -0.31    260.28      1.00\n",
      "   Tarr[1]     -0.42      0.06     -0.41     -0.51     -0.32    251.70      1.00\n",
      "   Tarr[2]     -0.41      0.05     -0.40     -0.48     -0.33    251.27      1.00\n",
      "   Tarr[3]     -0.40      0.04     -0.39     -0.46     -0.33    276.26      1.00\n",
      "   Tarr[4]     -0.39      0.04     -0.38     -0.44     -0.33    326.89      1.00\n",
      "   Tarr[5]     -0.38      0.04     -0.37     -0.42     -0.32    386.36      1.00\n",
      "   Tarr[6]     -0.37      0.04     -0.37     -0.43     -0.32    429.27      1.00\n",
      "   Tarr[7]     -0.36      0.04     -0.36     -0.45     -0.31    450.49      1.00\n",
      "   Tarr[8]     -0.36      0.05     -0.36     -0.45     -0.27    460.67      1.00\n",
      "   Tarr[9]     -0.35      0.07     -0.35     -0.46     -0.24    478.32      1.00\n",
      "     phase      0.12      0.02      0.12      0.08      0.15    260.68      1.00\n",
      "     sigma      0.13      0.05      0.12      0.07      0.20    504.98      1.00\n",
      "\n",
      "Number of divergences: 0\n"
     ]
    }
   ],
   "source": [
    "from jax import random\n",
    "from numpyro.infer import MCMC, NUTS\n",
    "\n",
    "# Start from this source of randomness. We will split keys for subsequent operations.\n",
    "rng_key = random.PRNGKey(0)\n",
    "rng_key, rng_key_ = random.split(rng_key)\n",
    "num_warmup, num_samples = 1000, 2000\n",
    "# Run NUTS.\n",
    "kernel = NUTS(model)\n",
    "mcmc = MCMC(kernel, num_warmup=num_warmup, num_samples=num_samples)\n",
    "mcmc.run(rng_key_, x=xarr, y=dobs)\n",
    "mcmc.print_summary()"
   ]
  },
  {
   "cell_type": "code",
   "execution_count": 17,
   "id": "5bd3c457",
   "metadata": {},
   "outputs": [],
   "source": [
    "samples = mcmc.get_samples()"
   ]
  },
  {
   "cell_type": "code",
   "execution_count": 19,
   "id": "7010d4b3",
   "metadata": {},
   "outputs": [],
   "source": [
    "Tsample=samples[\"Tarr\"]"
   ]
  },
  {
   "cell_type": "code",
   "execution_count": 21,
   "id": "dfc055e2",
   "metadata": {},
   "outputs": [
    {
     "data": {
      "text/plain": [
       "(2000, 10)"
      ]
     },
     "execution_count": 21,
     "metadata": {},
     "output_type": "execute_result"
    }
   ],
   "source": [
    "np.shape(Tsample)"
   ]
  },
  {
   "cell_type": "code",
   "execution_count": 35,
   "id": "8f6fb1fa",
   "metadata": {},
   "outputs": [],
   "source": [
    "from numpyro.diagnostics import hpdi\n",
    "mean_muy = jnp.mean(Tsample, axis=0)\n",
    "hpdi_muy = hpdi(Tsample, 0.90,axis=0)"
   ]
  },
  {
   "cell_type": "code",
   "execution_count": 36,
   "id": "550dc03c",
   "metadata": {},
   "outputs": [
    {
     "data": {
      "text/plain": [
       "(2, 10)"
      ]
     },
     "execution_count": 36,
     "metadata": {},
     "output_type": "execute_result"
    }
   ],
   "source": [
    "np.shape(hpdi_muy)"
   ]
  },
  {
   "cell_type": "code",
   "execution_count": 37,
   "id": "9b14d05d",
   "metadata": {},
   "outputs": [
    {
     "data": {
      "text/plain": [
       "<matplotlib.collections.PolyCollection at 0x7fba6c2773d0>"
      ]
     },
     "execution_count": 37,
     "metadata": {},
     "output_type": "execute_result"
    },
    {
     "data": {
      "image/png": "[encoded data removed]",
      "text/plain": [
       "<Figure size 432x288 with 1 Axes>"
      ]
     },
     "metadata": {
      "needs_background": "light"
     },
     "output_type": "display_data"
    }
   ],
   "source": [
    "plt.plot(xarr,Tarr,color=\"black\",ls=\"dashed\")\n",
    "plt.plot(xarr,mean_muy,color=\"C0\")\n",
    "plt.fill_between(xarr, hpdi_muy[0], hpdi_muy[1], alpha=0.3, interpolate=True,color=\"C0\")"
   ]
  },
  {
   "cell_type": "code",
   "execution_count": 39,
   "id": "63465d04",
   "metadata": {},
   "outputs": [],
   "source": [
    "N=20\n",
    "x=np.sort(np.random.rand(N))*4*np.pi\n",
    "def modelc(x):\n",
    "    phase = numpyro.sample('phase', dist.Uniform(-1.0*jnp.pi, 1.0*jnp.pi))\n",
    "    sigma = numpyro.sample('sigma', dist.Exponential(1.))\n",
    "    mu=jnp.sin(x+phase)\n",
    "    d=numpyro.sample('y', dist.Normal(mu, sigma))\n",
    "    return d\n",
    "\n",
    "from numpyro import handlers\n",
    "d = handlers.seed(modelc, rng_seed=9)(x)"
   ]
  },
  {
   "cell_type": "code",
   "execution_count": null,
   "id": "2468e0cd",
   "metadata": {},
   "outputs": [],
   "source": []
  }
 ],
 "metadata": {
  "kernelspec": {
   "display_name": "Python 3 (ipykernel)",
   "language": "python",
   "name": "python3"
  },
  "language_info": {
   "codemirror_mode": {
    "name": "ipython",
    "version": 3
   },
   "file_extension": ".py",
   "mimetype": "text/x-python",
   "name": "python",
   "nbconvert_exporter": "python",
   "pygments_lexer": "ipython3",
   "version": "3.8.8"
  }
 },
 "nbformat": 4,
 "nbformat_minor": 5
}
