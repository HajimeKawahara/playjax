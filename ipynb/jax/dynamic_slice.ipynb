{
 "cells": [
  {
   "cell_type": "code",
   "execution_count": 2,
   "metadata": {},
   "outputs": [],
   "source": [
    "from jax.lax import scan\n",
    "from jax.lax import dynamic_slice\n",
    "import jax.numpy as jnp"
   ]
  },
  {
   "cell_type": "code",
   "execution_count": 4,
   "metadata": {},
   "outputs": [
    {
     "name": "stdout",
     "output_type": "stream",
     "text": [
      "[10 11 12 13 14 15 16 17 18 19]\n"
     ]
    }
   ],
   "source": [
    "\n",
    "\n",
    "N = 30\n",
    "M = 10\n",
    "a = jnp.arange(N)\n",
    "\n",
    "print(dynamic_slice(a, (10,), (M,)))\n"
   ]
  },
  {
   "cell_type": "code",
   "execution_count": 9,
   "metadata": {},
   "outputs": [],
   "source": [
    "c = jnp.array([1,3,7])\n",
    "\n",
    "def scan_slice():\n",
    "\n",
    "    def f(icarry,factor):\n",
    "        element = dynamic_slice(a, (icarry,), (M,))\n",
    "        return icarry+M, element*factor\n",
    "    \n",
    "    _, result = scan(f, 0, c)\n",
    "\n",
    "    return result\n"
   ]
  },
  {
   "cell_type": "code",
   "execution_count": 10,
   "metadata": {},
   "outputs": [
    {
     "name": "stdout",
     "output_type": "stream",
     "text": [
      "[[  0   1   2   3   4   5   6   7   8   9]\n",
      " [ 30  33  36  39  42  45  48  51  54  57]\n",
      " [140 147 154 161 168 175 182 189 196 203]]\n"
     ]
    }
   ],
   "source": [
    "print(scan_slice())"
   ]
  },
  {
   "cell_type": "code",
   "execution_count": null,
   "metadata": {},
   "outputs": [],
   "source": []
  }
 ],
 "metadata": {
  "kernelspec": {
   "display_name": "base",
   "language": "python",
   "name": "python3"
  },
  "language_info": {
   "codemirror_mode": {
    "name": "ipython",
    "version": 3
   },
   "file_extension": ".py",
   "mimetype": "text/x-python",
   "name": "python",
   "nbconvert_exporter": "python",
   "pygments_lexer": "ipython3",
   "version": "3.10.9"
  }
 },
 "nbformat": 4,
 "nbformat_minor": 2
}
