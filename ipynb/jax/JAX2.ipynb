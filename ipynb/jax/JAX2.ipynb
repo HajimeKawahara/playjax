{
 "cells": [
  {
   "cell_type": "code",
   "execution_count": 13,
   "metadata": {},
   "outputs": [],
   "source": [
    "import jax.numpy as jnp\n",
    "from jax import jit, vmap, grad"
   ]
  },
  {
   "cell_type": "code",
   "execution_count": 2,
   "metadata": {},
   "outputs": [],
   "source": [
    "def f(x,y):\n",
    "    return jnp.dot(x,y)"
   ]
  },
  {
   "cell_type": "code",
   "execution_count": 19,
   "metadata": {},
   "outputs": [],
   "source": [
    "x=jnp.linspace(0,1,11)\n",
    "y=jnp.linspace(1,2,11)"
   ]
  },
  {
   "cell_type": "code",
   "execution_count": 21,
   "metadata": {},
   "outputs": [
    {
     "data": {
      "text/plain": [
       "DeviceArray(9.35, dtype=float32)"
      ]
     },
     "execution_count": 21,
     "metadata": {},
     "output_type": "execute_result"
    }
   ],
   "source": [
    "f(x,y)"
   ]
  },
  {
   "cell_type": "code",
   "execution_count": 22,
   "metadata": {},
   "outputs": [
    {
     "data": {
      "text/plain": [
       "DeviceArray([1.       , 1.1      , 1.2      , 1.3      , 1.4000001,\n",
       "             1.5      , 1.6      , 1.7      , 1.8      , 1.9000001,\n",
       "             2.       ], dtype=float32)"
      ]
     },
     "execution_count": 22,
     "metadata": {},
     "output_type": "execute_result"
    }
   ],
   "source": [
    "grad(f,argnums=0)(x,y)"
   ]
  },
  {
   "cell_type": "code",
   "execution_count": 24,
   "metadata": {},
   "outputs": [],
   "source": [
    "X=jnp.linspace(0,1,55).reshape(5,11)"
   ]
  },
  {
   "cell_type": "code",
   "execution_count": 26,
   "metadata": {},
   "outputs": [
    {
     "data": {
      "text/plain": [
       "DeviceArray([[1.       , 1.1      , 1.2      , 1.3      , 1.4000001,\n",
       "              1.5      , 1.6      , 1.7      , 1.8      , 1.9000001,\n",
       "              2.       ],\n",
       "             [1.       , 1.1      , 1.2      , 1.3      , 1.4000001,\n",
       "              1.5      , 1.6      , 1.7      , 1.8      , 1.9000001,\n",
       "              2.       ],\n",
       "             [1.       , 1.1      , 1.2      , 1.3      , 1.4000001,\n",
       "              1.5      , 1.6      , 1.7      , 1.8      , 1.9000001,\n",
       "              2.       ],\n",
       "             [1.       , 1.1      , 1.2      , 1.3      , 1.4000001,\n",
       "              1.5      , 1.6      , 1.7      , 1.8      , 1.9000001,\n",
       "              2.       ],\n",
       "             [1.       , 1.1      , 1.2      , 1.3      , 1.4000001,\n",
       "              1.5      , 1.6      , 1.7      , 1.8      , 1.9000001,\n",
       "              2.       ]], dtype=float32)"
      ]
     },
     "execution_count": 26,
     "metadata": {},
     "output_type": "execute_result"
    }
   ],
   "source": [
    "vmap(grad(f,argnums=0),(0,None),0)(X,y)"
   ]
  },
  {
   "cell_type": "code",
   "execution_count": 27,
   "metadata": {},
   "outputs": [],
   "source": [
    "X=jnp.linspace(0,1,55).reshape(5,11)\n",
    "Y=jnp.linspace(1,2,55).reshape(5,11)"
   ]
  },
  {
   "cell_type": "code",
   "execution_count": 28,
   "metadata": {},
   "outputs": [
    {
     "data": {
      "text/plain": [
       "DeviceArray([[1.       , 1.0185186, 1.037037 , 1.0555556, 1.074074 ,\n",
       "              1.0925926, 1.1111112, 1.1296296, 1.1481481, 1.1666666,\n",
       "              1.1851852],\n",
       "             [1.2037036, 1.2222222, 1.2407408, 1.2592592, 1.2777778,\n",
       "              1.2962964, 1.3148148, 1.3333333, 1.3518519, 1.3703704,\n",
       "              1.3888888],\n",
       "             [1.4074074, 1.425926 , 1.4444444, 1.4629629, 1.4814816,\n",
       "              1.5      , 1.5185184, 1.537037 , 1.5555556, 1.574074 ,\n",
       "              1.5925926],\n",
       "             [1.6111112, 1.6296296, 1.6481482, 1.6666667, 1.6851852,\n",
       "              1.7037036, 1.7222222, 1.7407408, 1.7592592, 1.7777778,\n",
       "              1.7962964],\n",
       "             [1.8148148, 1.8333333, 1.8518519, 1.8703704, 1.8888888,\n",
       "              1.9074074, 1.925926 , 1.9444444, 1.962963 , 1.9814816,\n",
       "              2.       ]], dtype=float32)"
      ]
     },
     "execution_count": 28,
     "metadata": {},
     "output_type": "execute_result"
    }
   ],
   "source": [
    "vmap(grad(f,argnums=0),(0,0),0)(X,Y)"
   ]
  },
  {
   "cell_type": "code",
   "execution_count": null,
   "metadata": {},
   "outputs": [],
   "source": []
  }
 ],
 "metadata": {
  "kernelspec": {
   "display_name": "Python 3",
   "language": "python",
   "name": "python3"
  },
  "language_info": {
   "codemirror_mode": {
    "name": "ipython",
    "version": 3
   },
   "file_extension": ".py",
   "mimetype": "text/x-python",
   "name": "python",
   "nbconvert_exporter": "python",
   "pygments_lexer": "ipython3",
   "version": "3.7.3"
  }
 },
 "nbformat": 4,
 "nbformat_minor": 2
}
