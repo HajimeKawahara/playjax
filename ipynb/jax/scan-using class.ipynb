{
 "cells": [
  {
   "cell_type": "code",
   "execution_count": 1,
   "metadata": {},
   "outputs": [],
   "source": [
    "import jax.numpy as jnp\n",
    "from jax.lax import fori_loop\n",
    "from jax.lax import scan\n",
    "from jax import grad \n",
    "from jax import vmap\n",
    "from jax import jit\n",
    "from functools import partial"
   ]
  },
  {
   "cell_type": "code",
   "execution_count": 2,
   "metadata": {},
   "outputs": [
    {
     "data": {
      "text/plain": [
       "'0.2.3'"
      ]
     },
     "execution_count": 2,
     "metadata": {},
     "output_type": "execute_result"
    }
   ],
   "source": [
    "import jax\n",
    "jax.__version__"
   ]
  },
  {
   "cell_type": "code",
   "execution_count": 3,
   "metadata": {},
   "outputs": [],
   "source": [
    "#@jit\n",
    "def f(x,null):\n",
    "    x=1.0/(1.0+x)\n",
    "    return x,null"
   ]
  },
  {
   "cell_type": "code",
   "execution_count": 4,
   "metadata": {},
   "outputs": [],
   "source": [
    "def nojitg(x0):\n",
    "    x,null=scan(f,x0,None,3)\n",
    "    return x"
   ]
  },
  {
   "cell_type": "code",
   "execution_count": 5,
   "metadata": {},
   "outputs": [],
   "source": [
    "@jit\n",
    "def g(x0):\n",
    "    x,null=scan(f,x0,None,3)\n",
    "    return x"
   ]
  },
  {
   "cell_type": "code",
   "execution_count": 4,
   "metadata": {},
   "outputs": [],
   "source": [
    "from jax import vmap\n",
    "from jax import jit\n",
    "xarr=jnp.linspace(0,1,100)"
   ]
  },
  {
   "cell_type": "code",
   "execution_count": 7,
   "metadata": {},
   "outputs": [
    {
     "name": "stdout",
     "output_type": "stream",
     "text": [
      "130 µs ± 11.6 µs per loop (mean ± std. dev. of 7 runs, 10000 loops each)\n"
     ]
    }
   ],
   "source": [
    "%timeit g(xarr)"
   ]
  },
  {
   "cell_type": "code",
   "execution_count": 8,
   "metadata": {},
   "outputs": [
    {
     "name": "stdout",
     "output_type": "stream",
     "text": [
      "9.54 ms ± 105 µs per loop (mean ± std. dev. of 7 runs, 100 loops each)\n"
     ]
    }
   ],
   "source": [
    "%timeit nojitg(xarr)"
   ]
  },
  {
   "cell_type": "code",
   "execution_count": 9,
   "metadata": {},
   "outputs": [
    {
     "name": "stdout",
     "output_type": "stream",
     "text": [
      "196 µs ± 3.94 µs per loop (mean ± std. dev. of 7 runs, 1000 loops each)\n"
     ]
    }
   ],
   "source": [
    "h=jit(vmap(grad(g)))\n",
    "%timeit harr=h(xarr)"
   ]
  },
  {
   "cell_type": "code",
   "execution_count": 10,
   "metadata": {},
   "outputs": [
    {
     "name": "stdout",
     "output_type": "stream",
     "text": [
      "33.8 ms ± 753 µs per loop (mean ± std. dev. of 7 runs, 1 loop each)\n"
     ]
    }
   ],
   "source": [
    "h=(vmap(grad(nojitg)))\n",
    "%timeit harr=h(xarr)"
   ]
  },
  {
   "cell_type": "code",
   "execution_count": 11,
   "metadata": {},
   "outputs": [],
   "source": [
    "class cjax(object):\n",
    "    def __init__(self):\n",
    "        self.c=0.0\n",
    "        self.n = 3\n",
    "        \n",
    "    def f(self,x,null):\n",
    "        x=self.c/(self.c+x)\n",
    "        return x,null    \n",
    "        \n",
    "    def g(self,x0):\n",
    "        x,null=scan(f,x0,None,self.n)\n",
    "        return x\n",
    "    \n",
    "    def h(self,x0):\n",
    "        return vmap(grad(g))(x0)"
   ]
  },
  {
   "cell_type": "code",
   "execution_count": 12,
   "metadata": {},
   "outputs": [
    {
     "name": "stdout",
     "output_type": "stream",
     "text": [
      "10 ms ± 598 µs per loop (mean ± std. dev. of 7 runs, 100 loops each)\n"
     ]
    }
   ],
   "source": [
    "cc=cjax()\n",
    "cc.c=2.0\n",
    "cc.n=4\n",
    "%timeit cc.g(xarr)"
   ]
  },
  {
   "cell_type": "code",
   "execution_count": 13,
   "metadata": {},
   "outputs": [
    {
     "name": "stdout",
     "output_type": "stream",
     "text": [
      "1.35 ms ± 36 µs per loop (mean ± std. dev. of 7 runs, 1000 loops each)\n"
     ]
    }
   ],
   "source": [
    "%timeit cc.h(xarr)"
   ]
  },
  {
   "cell_type": "code",
   "execution_count": 30,
   "metadata": {},
   "outputs": [],
   "source": [
    "class fcjax(object):\n",
    "    def __init__(self,c,n):\n",
    "        self.c=c\n",
    "        self.n=n\n",
    "        \n",
    "    def f(self,x,null):\n",
    "        x=self.c/(self.c+x)\n",
    "        return x,null    \n",
    "    \n",
    "    @partial(jit, static_argnums=(0,))\n",
    "    def g(self,x0):\n",
    "        x,null=scan(f,x0,None,self.n)\n",
    "        return x\n",
    "    \n",
    "    @partial(jit, static_argnums=(0,))\n",
    "    def h(self,x0):\n",
    "        hh=vmap(grad(self.g))\n",
    "        return hh(x0)\n",
    "    "
   ]
  },
  {
   "cell_type": "code",
   "execution_count": 31,
   "metadata": {},
   "outputs": [
    {
     "name": "stdout",
     "output_type": "stream",
     "text": [
      "139 µs ± 3.16 µs per loop (mean ± std. dev. of 7 runs, 1000 loops each)\n"
     ]
    }
   ],
   "source": [
    "fcc=fcjax(1,3)\n",
    "%timeit fcc.g(xarr)"
   ]
  },
  {
   "cell_type": "code",
   "execution_count": 32,
   "metadata": {},
   "outputs": [
    {
     "name": "stdout",
     "output_type": "stream",
     "text": [
      "215 µs ± 5.15 µs per loop (mean ± std. dev. of 7 runs, 1000 loops each)\n"
     ]
    }
   ],
   "source": [
    "%timeit fcc.h(xarr)"
   ]
  },
  {
   "cell_type": "code",
   "execution_count": 33,
   "metadata": {},
   "outputs": [
    {
     "name": "stdout",
     "output_type": "stream",
     "text": [
      "204 µs ± 1.75 µs per loop (mean ± std. dev. of 7 runs, 1000 loops each)\n"
     ]
    }
   ],
   "source": [
    "hf=jit(vmap(grad(fcc.g)))\n",
    "%timeit hf(xarr)"
   ]
  },
  {
   "cell_type": "code",
   "execution_count": 52,
   "metadata": {},
   "outputs": [
    {
     "data": {
      "image/png": "[encoded data removed]",
      "text/plain": [
       "<Figure size 432x288 with 1 Axes>"
      ]
     },
     "metadata": {
      "needs_background": "light"
     },
     "output_type": "display_data"
    }
   ],
   "source": [
    "import matplotlib.pyplot as plt\n",
    "fcc=fcjax(1.0,i)\n",
    "for i in range(1,4):\n",
    "    fcc=fcjax(1.0,i)\n",
    "    fcc.n=i+1\n",
    "    plt.plot(fcc.g(xarr),label=\"n=\"+str(i))\n",
    "plt.legend()\n",
    "plt.show()"
   ]
  },
  {
   "cell_type": "code",
   "execution_count": 58,
   "metadata": {},
   "outputs": [
    {
     "name": "stdout",
     "output_type": "stream",
     "text": [
      "-0.11111111\n",
      "-0.11111111\n",
      "0.039999995\n"
     ]
    }
   ],
   "source": [
    "fcc=fcjax(1.0,1)\n",
    "fcc.n=3\n",
    "print(fcc.h(xarr)[0])\n",
    "fcc.n=4\n",
    "print(fcc.h(xarr)[0])\n",
    "fcc=fcjax(1.0,4)\n",
    "print(fcc.h(xarr)[0])"
   ]
  },
  {
   "cell_type": "code",
   "execution_count": 5,
   "metadata": {},
   "outputs": [],
   "source": [
    "import sympy as sp\n",
    "x = sp.Symbol('x')\n",
    "def f_sp(x):\n",
    "    return 1/(1+x)\n",
    "ans1=sp.diff(f_sp(x),x)\n",
    "ans2=sp.diff(f_sp(f_sp(x)),x)\n",
    "ans3=sp.diff(f_sp(f_sp(f_sp(x))),x)"
   ]
  },
  {
   "cell_type": "code",
   "execution_count": 44,
   "metadata": {},
   "outputs": [
    {
     "data": {
      "text/latex": [
       "$\\displaystyle - \\frac{1}{\\left(x + 1\\right)^{2}}$"
      ],
      "text/plain": [
       "-1/(x + 1)**2"
      ]
     },
     "execution_count": 44,
     "metadata": {},
     "output_type": "execute_result"
    }
   ],
   "source": [
    "ans1"
   ]
  },
  {
   "cell_type": "code",
   "execution_count": 45,
   "metadata": {},
   "outputs": [
    {
     "data": {
      "text/latex": [
       "$\\displaystyle \\frac{1}{\\left(1 + \\frac{1}{x + 1}\\right)^{2} \\left(x + 1\\right)^{2}}$"
      ],
      "text/plain": [
       "1/((1 + 1/(x + 1))**2*(x + 1)**2)"
      ]
     },
     "execution_count": 45,
     "metadata": {},
     "output_type": "execute_result"
    }
   ],
   "source": [
    "ans2"
   ]
  },
  {
   "cell_type": "code",
   "execution_count": 46,
   "metadata": {},
   "outputs": [
    {
     "data": {
      "text/latex": [
       "$\\displaystyle - \\frac{1}{\\left(1 + \\frac{1}{1 + \\frac{1}{x + 1}}\\right)^{2} \\left(1 + \\frac{1}{x + 1}\\right)^{2} \\left(x + 1\\right)^{2}}$"
      ],
      "text/plain": [
       "-1/((1 + 1/(1 + 1/(x + 1)))**2*(1 + 1/(x + 1))**2*(x + 1)**2)"
      ]
     },
     "execution_count": 46,
     "metadata": {},
     "output_type": "execute_result"
    }
   ],
   "source": [
    "ans3"
   ]
  },
  {
   "cell_type": "code",
   "execution_count": 6,
   "metadata": {},
   "outputs": [],
   "source": [
    "h_sp1=lambda x:-(f_sp(x))**2\n",
    "h_sp2=lambda x:(f_sp(f_sp(x)))**2*(f_sp(x))**2\n",
    "h_sp3=lambda x:-(f_sp(f_sp(f_sp(x))))**2*(f_sp(f_sp(x)))**2*(f_sp(x))**2"
   ]
  },
  {
   "cell_type": "code",
   "execution_count": 29,
   "metadata": {},
   "outputs": [
    {
     "data": {
      "image/png": "[encoded data removed]",
      "text/plain": [
       "<Figure size 432x288 with 1 Axes>"
      ]
     },
     "metadata": {
      "needs_background": "light"
     },
     "output_type": "display_data"
    }
   ],
   "source": [
    "import matplotlib.pyplot as plt\n",
    "import seaborn as sns\n",
    "plt.style.use('bmh')\n",
    "\n",
    "fig=plt.figure()\n",
    "ax=fig.add_subplot(111)\n",
    "for i in range(1,6):\n",
    "    fcc=fcjax()\n",
    "    fcc.n=i\n",
    "    fcc.c=1.0\n",
    "    plt.plot(xarr,fcc.h(xarr),alpha=0.5,label=\"auto: n=\"+str(i))\n",
    "#plt.plot(xarr,h_sp1(xarr),label=\"n=1\",ls=\"dotted\")\n",
    "#plt.plot(xarr,h_sp2(xarr),label=\"n=2\",ls=\"dotted\")\n",
    "#plt.plot(xarr,h_sp3(xarr),label=\"n=3\",ls=\"dotted\")\n",
    "plt.legend()\n",
    "plt.show()"
   ]
  },
  {
   "cell_type": "code",
   "execution_count": null,
   "metadata": {},
   "outputs": [],
   "source": []
  }
 ],
 "metadata": {
  "kernelspec": {
   "display_name": "Python 3",
   "language": "python",
   "name": "python3"
  },
  "language_info": {
   "codemirror_mode": {
    "name": "ipython",
    "version": 3
   },
   "file_extension": ".py",
   "mimetype": "text/x-python",
   "name": "python",
   "nbconvert_exporter": "python",
   "pygments_lexer": "ipython3",
   "version": "3.7.3"
  }
 },
 "nbformat": 4,
 "nbformat_minor": 2
}
