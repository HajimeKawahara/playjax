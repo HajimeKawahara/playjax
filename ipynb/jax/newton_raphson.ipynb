{
 "cells": [
  {
   "cell_type": "markdown",
   "id": "61741ad7",
   "metadata": {},
   "source": [
    "# Autodiff of an implicit function"
   ]
  },
  {
   "cell_type": "code",
   "execution_count": 25,
   "id": "3a1fb5a8",
   "metadata": {},
   "outputs": [],
   "source": [
    "import jax.numpy as jnp\n",
    "from jax import grad\n",
    "\n",
    "def f(E, e, M):\n",
    "    return E - e*jnp.sin(E) - M\n",
    "\n",
    "dfdE = grad(f, argnums=0)\n",
    "dfde = grad(f, argnums=1)\n",
    "dfdM = grad(f, argnums=2)\n"
   ]
  },
  {
   "cell_type": "code",
   "execution_count": null,
   "id": "155ceb9f",
   "metadata": {},
   "outputs": [],
   "source": [
    "from functools import partial\n",
    "from jax import custom_vjp\n",
    "from jax.lax import while_loop\n",
    "\n",
    "\n",
    "@custom_vjp\n",
    "def eccentric_anomaly_newton_raphson(e, M, Eini):\n",
    "    def cond_fun(carry):\n",
    "        E_prev, E = carry\n",
    "        return jnp.abs(E - E_prev) > 1e-10\n",
    "\n",
    "    def body_fun(carry):\n",
    "        _, E = carry\n",
    "        E_new = E - f(E, e, M) / dfdE(E, e, M)\n",
    "        return E, E_new\n",
    "\n",
    "    _, E_star = while_loop(cond_fun, body_fun, (Eini, 0.0))\n",
    "    return E_star\n",
    "\n",
    "\n",
    "def eccentric_anomaly_newton_raphson_fwd(e, M, Eini):\n",
    "    E_star = eccentric_anomaly_newton_raphson(e, M, Eini)\n",
    "    return E_star, (jnp.sin(E_star), 1.0 - e * jnp.cos(E_star))\n",
    "\n",
    "\n",
    "def eccentric_anomaly_newton_raphson_bwd(residuals, u):\n",
    "    sin_E_star, one_minus_cos_E_star = residuals\n",
    "    return (sin_E_star * u / one_minus_cos_E_star, u / one_minus_cos_E_star, 0.0)\n",
    "\n",
    "\n",
    "eccentric_anomaly_newton_raphson.defvjp(eccentric_anomaly_newton_raphson_fwd, eccentric_anomaly_newton_raphson_bwd)"
   ]
  },
  {
   "cell_type": "code",
   "execution_count": 41,
   "id": "1dd8a8d5",
   "metadata": {},
   "outputs": [
    {
     "name": "stdout",
     "output_type": "stream",
     "text": [
      "E_star = 0.22202006\n",
      "0.24400184\n",
      "1.1080891\n"
     ]
    }
   ],
   "source": [
    "etest = 0.1\n",
    "Mtest = 0.2\n",
    "Eini = 0.3\n",
    "Estar = eccentric_anomaly_newton_raphson(etest, Mtest, Eini)\n",
    "print(\"E_star =\", Estar)\n",
    "dE_de = grad(eccentric_anomaly_newton_raphson, argnums=0)\n",
    "dE_dM = grad(eccentric_anomaly_newton_raphson, argnums=1)\n",
    "\n",
    "\n",
    "print(dE_de(etest, Mtest, Eini))\n",
    "print(dE_dM(etest, Mtest, Eini))"
   ]
  },
  {
   "cell_type": "code",
   "execution_count": 26,
   "id": "0e08f2af",
   "metadata": {},
   "outputs": [
    {
     "data": {
      "text/plain": [
       "Array(0., dtype=float32, weak_type=True)"
      ]
     },
     "execution_count": 26,
     "metadata": {},
     "output_type": "execute_result"
    }
   ],
   "source": [
    "f(Estar, etest, Mtest)"
   ]
  },
  {
   "cell_type": "code",
   "execution_count": null,
   "id": "ae5b5863",
   "metadata": {},
   "outputs": [],
   "source": []
  }
 ],
 "metadata": {
  "kernelspec": {
   "display_name": "base",
   "language": "python",
   "name": "python3"
  },
  "language_info": {
   "codemirror_mode": {
    "name": "ipython",
    "version": 3
   },
   "file_extension": ".py",
   "mimetype": "text/x-python",
   "name": "python",
   "nbconvert_exporter": "python",
   "pygments_lexer": "ipython3",
   "version": "3.10.9"
  }
 },
 "nbformat": 4,
 "nbformat_minor": 5
}
