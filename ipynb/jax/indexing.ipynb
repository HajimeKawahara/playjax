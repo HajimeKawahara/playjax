{
 "cells": [
  {
   "cell_type": "code",
   "execution_count": 2,
   "id": "0d02793f",
   "metadata": {},
   "outputs": [],
   "source": [
    "import jax.numpy as jnp\n",
    "import numpy as np\n",
    "#from jax.ops import index_add,index_update\n",
    "#from jax.ops import index as joi"
   ]
  },
  {
   "cell_type": "code",
   "execution_count": 12,
   "id": "f3faa051",
   "metadata": {},
   "outputs": [],
   "source": [
    "N=5\n",
    "a=jnp.zeros(N)"
   ]
  },
  {
   "cell_type": "code",
   "execution_count": 4,
   "id": "788f7c78",
   "metadata": {},
   "outputs": [
    {
     "data": {
      "text/plain": [
       "Array([0., 0., 0., 0., 0.], dtype=float32)"
      ]
     },
     "execution_count": 4,
     "metadata": {},
     "output_type": "execute_result"
    }
   ],
   "source": [
    "a"
   ]
  },
  {
   "cell_type": "code",
   "execution_count": 13,
   "id": "32d03999",
   "metadata": {},
   "outputs": [],
   "source": [
    "indx=jnp.array([1,2])\n",
    "val=jnp.array([10.0,3.0])"
   ]
  },
  {
   "cell_type": "code",
   "execution_count": 6,
   "id": "d7fb327c",
   "metadata": {},
   "outputs": [],
   "source": [
    "#a[indx]=val"
   ]
  },
  {
   "cell_type": "code",
   "execution_count": 15,
   "id": "cacd64e7",
   "metadata": {},
   "outputs": [],
   "source": [
    "a=a.at[indx].set(val)"
   ]
  },
  {
   "cell_type": "code",
   "execution_count": 17,
   "id": "86e3675d",
   "metadata": {},
   "outputs": [
    {
     "data": {
      "text/plain": [
       "Array([ 0., 10.,  3.,  0.,  0.], dtype=float32)"
      ]
     },
     "execution_count": 17,
     "metadata": {},
     "output_type": "execute_result"
    }
   ],
   "source": [
    "a"
   ]
  },
  {
   "cell_type": "code",
   "execution_count": 16,
   "id": "7e4630a9",
   "metadata": {},
   "outputs": [
    {
     "data": {
      "text/plain": [
       "Array([ 1., 12.,  3.,  0.,  0.], dtype=float32)"
      ]
     },
     "execution_count": 16,
     "metadata": {},
     "output_type": "execute_result"
    }
   ],
   "source": [
    "a.at[jnp.array([0,1])].add(jnp.array([1.,2.]))"
   ]
  },
  {
   "cell_type": "markdown",
   "id": "d4481d54",
   "metadata": {},
   "source": [
    "## 2D case"
   ]
  },
  {
   "cell_type": "code",
   "execution_count": 16,
   "id": "4f9b5a7c",
   "metadata": {},
   "outputs": [],
   "source": [
    "N=4\n",
    "M=3\n",
    "a=jnp.zeros((N,M))"
   ]
  },
  {
   "cell_type": "code",
   "execution_count": 17,
   "id": "d187a2d2",
   "metadata": {},
   "outputs": [
    {
     "data": {
      "text/plain": [
       "DeviceArray([[0., 0., 0.],\n",
       "             [0., 0., 0.],\n",
       "             [0., 0., 0.],\n",
       "             [0., 0., 0.]], dtype=float32)"
      ]
     },
     "execution_count": 17,
     "metadata": {},
     "output_type": "execute_result"
    }
   ],
   "source": [
    "a"
   ]
  },
  {
   "cell_type": "code",
   "execution_count": 18,
   "id": "3b00d2d9",
   "metadata": {},
   "outputs": [],
   "source": [
    "indx=jnp.array([1,2])\n",
    "indy=jnp.array([0,2])\n",
    "val=jnp.array([10.0,3.0])"
   ]
  },
  {
   "cell_type": "code",
   "execution_count": 20,
   "id": "d1e1f81f",
   "metadata": {},
   "outputs": [],
   "source": [
    "a=index_update(a,joi[indx,indy],val)"
   ]
  },
  {
   "cell_type": "code",
   "execution_count": 21,
   "id": "f94faaef",
   "metadata": {},
   "outputs": [
    {
     "data": {
      "text/plain": [
       "DeviceArray([[ 0.,  0.,  0.],\n",
       "             [10.,  0.,  0.],\n",
       "             [ 0.,  0.,  3.],\n",
       "             [ 0.,  0.,  0.]], dtype=float32)"
      ]
     },
     "execution_count": 21,
     "metadata": {},
     "output_type": "execute_result"
    }
   ],
   "source": [
    "a"
   ]
  },
  {
   "cell_type": "code",
   "execution_count": null,
   "id": "1c269af8",
   "metadata": {},
   "outputs": [],
   "source": []
  }
 ],
 "metadata": {
  "kernelspec": {
   "display_name": "Python 3 (ipykernel)",
   "language": "python",
   "name": "python3"
  },
  "language_info": {
   "codemirror_mode": {
    "name": "ipython",
    "version": 3
   },
   "file_extension": ".py",
   "mimetype": "text/x-python",
   "name": "python",
   "nbconvert_exporter": "python",
   "pygments_lexer": "ipython3",
   "version": "3.10.9"
  }
 },
 "nbformat": 4,
 "nbformat_minor": 5
}
