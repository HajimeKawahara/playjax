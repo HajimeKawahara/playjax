{
 "cells": [
  {
   "cell_type": "code",
   "execution_count": 1,
   "metadata": {},
   "outputs": [],
   "source": [
    "import jax.numpy as jnp"
   ]
  },
  {
   "cell_type": "code",
   "execution_count": 2,
   "metadata": {},
   "outputs": [
    {
     "data": {
      "text/plain": [
       "(Array(1, dtype=int32),\n",
       " Array(2, dtype=int32),\n",
       " Array(3, dtype=int32),\n",
       " Array(3, dtype=int32),\n",
       " Array(3, dtype=int32))"
      ]
     },
     "execution_count": 2,
     "metadata": {},
     "output_type": "execute_result"
    }
   ],
   "source": [
    "import jax.numpy as jnp\n",
    "a = jnp.array([1,2,3])\n",
    "a[0],a[1],a[2],a[3],a[4]"
   ]
  },
  {
   "cell_type": "code",
   "execution_count": 3,
   "metadata": {},
   "outputs": [
    {
     "data": {
      "text/plain": [
       "Array(-2147483648, dtype=int32)"
      ]
     },
     "execution_count": 3,
     "metadata": {},
     "output_type": "execute_result"
    }
   ],
   "source": [
    "jnp.take(a, 3)"
   ]
  },
  {
   "cell_type": "code",
   "execution_count": 9,
   "metadata": {},
   "outputs": [],
   "source": [
    "from jax.experimental.checkify import checkify, index_checks\n",
    "from functools import partial\n",
    "\n",
    "@partial(checkify, errors=index_checks)\n",
    "def getval(i):\n",
    "    return a[i]\n"
   ]
  },
  {
   "cell_type": "code",
   "execution_count": 12,
   "metadata": {},
   "outputs": [
    {
     "data": {
      "text/plain": [
       "(Error(_pred={}, _code={}, _metadata={}, _payload={}), Array(3, dtype=int32))"
      ]
     },
     "execution_count": 12,
     "metadata": {},
     "output_type": "execute_result"
    }
   ],
   "source": [
    "getval(2)"
   ]
  },
  {
   "cell_type": "code",
   "execution_count": 11,
   "metadata": {},
   "outputs": [
    {
     "data": {
      "text/plain": [
       "(Error(_pred={ErrorEffect(error_type=<class 'jax._src.checkify.OOBError'>, shape_dtypes=(ShapeDtypeStruct(shape=(3,), dtype=int32),)): Array(True, dtype=bool)}, _code={ErrorEffect(error_type=<class 'jax._src.checkify.OOBError'>, shape_dtypes=(ShapeDtypeStruct(shape=(3,), dtype=int32),)): Array(1, dtype=int32, weak_type=True)}, _metadata={1: PyTreeDef(CustomNode(OOBError[(<jaxlib.xla_extension.Traceback object at 0x18e978a0>, 'gather', (3,))], [*]))}, _payload={ErrorEffect(error_type=<class 'jax._src.checkify.OOBError'>, shape_dtypes=(ShapeDtypeStruct(shape=(3,), dtype=int32),)): [Array([3, 0, 3], dtype=int32)]}),\n",
       " Array(3, dtype=int32))"
      ]
     },
     "execution_count": 11,
     "metadata": {},
     "output_type": "execute_result"
    }
   ],
   "source": [
    "getval(3)"
   ]
  },
  {
   "cell_type": "code",
   "execution_count": null,
   "metadata": {},
   "outputs": [],
   "source": []
  }
 ],
 "metadata": {
  "kernelspec": {
   "display_name": "base",
   "language": "python",
   "name": "python3"
  },
  "language_info": {
   "codemirror_mode": {
    "name": "ipython",
    "version": 3
   },
   "file_extension": ".py",
   "mimetype": "text/x-python",
   "name": "python",
   "nbconvert_exporter": "python",
   "pygments_lexer": "ipython3",
   "version": "3.10.9"
  }
 },
 "nbformat": 4,
 "nbformat_minor": 2
}
