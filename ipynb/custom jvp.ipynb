{
 "cells": [
  {
   "cell_type": "code",
   "execution_count": 21,
   "metadata": {},
   "outputs": [],
   "source": [
    "import jax.numpy as jnp\n",
    "from jax import custom_jvp\n",
    "from jax import custom_vjp\n",
    "from jax import grad\n",
    "import numpy as np"
   ]
  },
  {
   "cell_type": "code",
   "execution_count": 16,
   "metadata": {},
   "outputs": [],
   "source": [
    "@custom_jvp\n",
    "def f(x, y):\n",
    "    return np.sin(x) * y\n",
    "\n",
    "@f.defjvp\n",
    "def f_jvp(primals, tangents):\n",
    "    x, y = primals\n",
    "    x_dot, y_dot = tangents\n",
    "    primal_out = f(x, y)\n",
    "    tangent_out = np.cos(x) * x_dot * y + np.sin(x) * y_dot\n",
    "    return primal_out, tangent_out"
   ]
  },
  {
   "cell_type": "code",
   "execution_count": 17,
   "metadata": {},
   "outputs": [],
   "source": [
    "g=grad(f)"
   ]
  },
  {
   "cell_type": "code",
   "execution_count": 20,
   "metadata": {},
   "outputs": [
    {
     "name": "stdout",
     "output_type": "stream",
     "text": [
      "2.97 ms ± 89.6 µs per loop (mean ± std. dev. of 7 runs, 100 loops each)\n"
     ]
    }
   ],
   "source": [
    "%timeit g(1.0,2.0)"
   ]
  },
  {
   "cell_type": "code",
   "execution_count": 10,
   "metadata": {},
   "outputs": [],
   "source": [
    "def ff(x, y):\n",
    "    return jnp.sin(x) * y\n",
    "gg=grad(ff)"
   ]
  },
  {
   "cell_type": "code",
   "execution_count": 26,
   "metadata": {},
   "outputs": [
    {
     "name": "stdout",
     "output_type": "stream",
     "text": [
      "3.14 ms ± 107 µs per loop (mean ± std. dev. of 7 runs, 100 loops each)\n"
     ]
    }
   ],
   "source": [
    "%timeit g(1.0,2.0)"
   ]
  },
  {
   "cell_type": "code",
   "execution_count": 23,
   "metadata": {},
   "outputs": [],
   "source": [
    "@custom_vjp\n",
    "def h(x, y):\n",
    "    return np.sin(x) * y\n",
    "\n",
    "def h_fwd(x, y):\n",
    "    # Returns primal output and residuals to be used in backward pass by f_bwd.\n",
    "    #   .. dhdy\n",
    "    return h(x, y), (jnp.cos(x), jnp.sin(x), y)\n",
    "\n",
    "def h_bwd(res, g):\n",
    "    cos_x, sin_x, y = res # Gets residuals computed in f_fwd\n",
    "    return (cos_x * g * y, sin_x * g)\n",
    "\n",
    "h.defvjp(h_fwd, h_bwd)\n"
   ]
  },
  {
   "cell_type": "code",
   "execution_count": 24,
   "metadata": {},
   "outputs": [],
   "source": [
    "gh=grad(h)"
   ]
  },
  {
   "cell_type": "code",
   "execution_count": 27,
   "metadata": {},
   "outputs": [
    {
     "name": "stdout",
     "output_type": "stream",
     "text": [
      "3.6 ms ± 211 µs per loop (mean ± std. dev. of 7 runs, 100 loops each)\n"
     ]
    }
   ],
   "source": [
    "%timeit gh(1.0,2.0)"
   ]
  },
  {
   "cell_type": "code",
   "execution_count": null,
   "metadata": {},
   "outputs": [],
   "source": []
  }
 ],
 "metadata": {
  "kernelspec": {
   "display_name": "Python 3",
   "language": "python",
   "name": "python3"
  },
  "language_info": {
   "codemirror_mode": {
    "name": "ipython",
    "version": 3
   },
   "file_extension": ".py",
   "mimetype": "text/x-python",
   "name": "python",
   "nbconvert_exporter": "python",
   "pygments_lexer": "ipython3",
   "version": "3.7.3"
  }
 },
 "nbformat": 4,
 "nbformat_minor": 2
}
