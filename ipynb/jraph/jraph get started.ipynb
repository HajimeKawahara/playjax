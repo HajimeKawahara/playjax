{
 "cells": [
  {
   "cell_type": "code",
   "execution_count": 19,
   "id": "78b2de50",
   "metadata": {},
   "outputs": [],
   "source": [
    "import jraph\n",
    "import jax.numpy as jnp\n",
    "import networkx as nx"
   ]
  },
  {
   "cell_type": "code",
   "execution_count": 11,
   "id": "ad453451",
   "metadata": {},
   "outputs": [],
   "source": [
    "node_features=jnp.array([[0.],[1.],[2.]])"
   ]
  },
  {
   "cell_type": "code",
   "execution_count": 4,
   "id": "eb2543d1",
   "metadata": {},
   "outputs": [],
   "source": [
    "senders = jnp.array([0,1,2])"
   ]
  },
  {
   "cell_type": "code",
   "execution_count": 5,
   "id": "654eb4db",
   "metadata": {},
   "outputs": [],
   "source": [
    "receivers = jnp.array([1,2,0])"
   ]
  },
  {
   "cell_type": "code",
   "execution_count": 12,
   "id": "b278ae67",
   "metadata": {},
   "outputs": [],
   "source": [
    "edges = jnp.array([[5.],[6.],[7.]])"
   ]
  },
  {
   "cell_type": "code",
   "execution_count": 7,
   "id": "0808b300",
   "metadata": {},
   "outputs": [],
   "source": [
    "n_node = jnp.array([len(node_features)])\n",
    "n_edge = jnp.array([len(senders)])"
   ]
  },
  {
   "cell_type": "code",
   "execution_count": 8,
   "id": "ec63459b",
   "metadata": {},
   "outputs": [],
   "source": [
    "global_context = jnp.array([[1]])"
   ]
  },
  {
   "cell_type": "code",
   "execution_count": 14,
   "id": "54bb1057",
   "metadata": {},
   "outputs": [],
   "source": [
    "graph = jraph.GraphsTuple(nodes=node_features, senders=senders,\n",
    "                          receivers=receivers, edges=edges, \n",
    "                          n_node=n_node, n_edge=n_edge, globals=global_context)"
   ]
  },
  {
   "cell_type": "code",
   "execution_count": 17,
   "id": "3dad8a54",
   "metadata": {},
   "outputs": [
    {
     "data": {
      "text/plain": [
       "GraphsTuple(nodes=DeviceArray([[0.],\n",
       "             [1.],\n",
       "             [2.]], dtype=float32), edges=DeviceArray([[5.],\n",
       "             [6.],\n",
       "             [7.]], dtype=float32), receivers=DeviceArray([1, 2, 0], dtype=int32), senders=DeviceArray([0, 1, 2], dtype=int32), globals=DeviceArray([[1]], dtype=int32), n_node=DeviceArray([3], dtype=int32), n_edge=DeviceArray([3], dtype=int32))"
      ]
     },
     "execution_count": 17,
     "metadata": {},
     "output_type": "execute_result"
    }
   ],
   "source": [
    "graph"
   ]
  },
  {
   "cell_type": "raw",
   "id": "27117238",
   "metadata": {},
   "source": []
  },
  {
   "cell_type": "code",
   "execution_count": 31,
   "id": "d51edc6a",
   "metadata": {},
   "outputs": [],
   "source": [
    "def convert_jraph_to_networkx_graph(jraph_graph: jraph.GraphsTuple) -> nx.Graph:\n",
    "    nodes, edges, receivers, senders, _, _, _ = jraph_graph\n",
    "    nx_graph = nx.DiGraph()\n",
    "    if nodes is None:\n",
    "        for n in range(jraph_graph.n_node[0]):\n",
    "            nx_graph.add_node(n)\n",
    "    else:\n",
    "        for n in range(jraph_graph.n_node[0]):\n",
    "            nx_graph.add_node(n, node_feature=nodes[n])\n",
    "    if edges is None:\n",
    "        for e in range(jraph_graph.n_edge[0]):\n",
    "            nx_graph.add_edge(int(senders[e]), int(receivers[e]))\n",
    "    else:\n",
    "        for e in range(jraph_graph.n_edge[0]):\n",
    "            nx_graph.add_edge(int(senders[e]), int(receivers[e]), edge_feature=edges[e])\n",
    "    return nx_graph\n",
    "\n",
    "\n",
    "def draw_jraph_graph_structure(jraph_graph: jraph.GraphsTuple) -> None:\n",
    "    nx_graph = convert_jraph_to_networkx_graph(jraph_graph)\n",
    "    pos = nx.spring_layout(nx_graph)\n",
    "    nx.draw(nx_graph, pos=pos, with_labels=True, node_size=700, font_color='white',\n",
    "            alpha=0.7,node_color=\"C2\",node_shape=\"s\")"
   ]
  },
  {
   "cell_type": "code",
   "execution_count": 32,
   "id": "4ff9c2a4",
   "metadata": {},
   "outputs": [
    {
     "data": {
      "image/png": "[encoded data removed]",
      "text/plain": [
       "<Figure size 432x288 with 1 Axes>"
      ]
     },
     "metadata": {},
     "output_type": "display_data"
    }
   ],
   "source": [
    "draw_jraph_graph_structure(graph)"
   ]
  },
  {
   "cell_type": "code",
   "execution_count": null,
   "id": "df5f3b10",
   "metadata": {},
   "outputs": [],
   "source": [
    "jraph.segment_mean()"
   ]
  }
 ],
 "metadata": {
  "kernelspec": {
   "display_name": "Python 3 (ipykernel)",
   "language": "python",
   "name": "python3"
  },
  "language_info": {
   "codemirror_mode": {
    "name": "ipython",
    "version": 3
   },
   "file_extension": ".py",
   "mimetype": "text/x-python",
   "name": "python",
   "nbconvert_exporter": "python",
   "pygments_lexer": "ipython3",
   "version": "3.8.8"
  }
 },
 "nbformat": 4,
 "nbformat_minor": 5
}
