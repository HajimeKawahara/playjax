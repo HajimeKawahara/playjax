{
 "cells": [
  {
   "cell_type": "code",
   "execution_count": 1,
   "metadata": {},
   "outputs": [],
   "source": [
    "import jax.numpy as jnp\n",
    "from jax.ad_checkpoint import print_saved_residuals\n",
    "import jax"
   ]
  },
  {
   "cell_type": "code",
   "execution_count": 2,
   "metadata": {},
   "outputs": [],
   "source": [
    "def chain_compose(funs):\n",
    "  def f(x):\n",
    "    for fun in funs:\n",
    "      x = fun(x)\n",
    "  return f\n",
    "\n",
    "f = chain_compose([jnp.sin] * 8)\n",
    "print_saved_residuals(f, 3.)"
   ]
  },
  {
   "cell_type": "code",
   "execution_count": 3,
   "metadata": {},
   "outputs": [],
   "source": [
    "\n",
    "\n",
    "f = chain_compose([jnp.sin] * 8 + [jnp.cos] * 8)\n",
    "print_saved_residuals(f, 3.)"
   ]
  },
  {
   "cell_type": "code",
   "execution_count": 4,
   "metadata": {},
   "outputs": [],
   "source": [
    "def recursive_checkpoint(funs):\n",
    "  if len(funs) == 1:\n",
    "    return funs[0]\n",
    "  elif len(funs) == 2:\n",
    "    f1, f2 = funs\n",
    "    return lambda x: f1(f2(x))\n",
    "  else:\n",
    "    f1 = recursive_checkpoint(funs[:len(funs)//2])\n",
    "    f2 = recursive_checkpoint(funs[len(funs)//2:])\n",
    "    return lambda x: f1(jax.checkpoint(f2)(x))"
   ]
  },
  {
   "cell_type": "code",
   "execution_count": 5,
   "metadata": {},
   "outputs": [
    {
     "name": "stdout",
     "output_type": "stream",
     "text": [
      "f32[] from the argument x\n",
      "f32[] output of cos from /tmp/ipykernel_7673/1943107544.py:6 (<lambda>)\n",
      "f32[] output of sin from /tmp/ipykernel_7673/1943107544.py:6 (<lambda>)\n",
      "f32[] output of cos from /tmp/ipykernel_7673/1943107544.py:6 (<lambda>)\n",
      "f32[] output of cos from /tmp/ipykernel_7673/1943107544.py:6 (<lambda>)\n"
     ]
    }
   ],
   "source": [
    "f = recursive_checkpoint([jnp.sin] * 8 + [jnp.cos] * 8)\n",
    "print_saved_residuals(f, 3.)"
   ]
  },
  {
   "cell_type": "code",
   "execution_count": 41,
   "metadata": {},
   "outputs": [],
   "source": [
    "import numpy as np\n",
    "def dummy_recursive_checkpoint(funs):\n",
    "  if len(funs) == 1:\n",
    "    #return funs[0]\n",
    "    #print(\"END (len=1)\", funs[0])\n",
    "    return funs[0]\n",
    "  elif len(funs) == 2:\n",
    "    f1, f2 = funs\n",
    "    #return lambda x: \"A: f1(f2(x))\"\n",
    "    #print(f1+\" \"+f2)\n",
    "    #return f1+\" \"+f2\n",
    "    return f1+\" \"+f2\n",
    "    #return f1,f2\n",
    "  else:\n",
    "    A = funs[:len(funs)//2]\n",
    "    B = funs[len(funs)//2:]\n",
    "    f1 = dummy_recursive_checkpoint(A)\n",
    "    f2 = dummy_recursive_checkpoint(B)\n",
    "    #print(f1+\" [\"+f2+\"]\")\n",
    "    return f1+\" (\"+f2+\")\"\n",
    "    \n",
    "    #return lambda x: \"B: f1(f2(x))\""
   ]
  },
  {
   "cell_type": "code",
   "execution_count": 50,
   "metadata": {},
   "outputs": [],
   "source": [
    "\n",
    "def display_recursive_checkpoint(K):\n",
    "    inlist = [f\"f{i}\" for i in range(K,0,-1)]\n",
    "    #print(inlist)\n",
    "    return dummy_recursive_checkpoint(inlist)\n"
   ]
  },
  {
   "cell_type": "code",
   "execution_count": 51,
   "metadata": {},
   "outputs": [
    {
     "data": {
      "text/plain": [
       "'f8 f7 (f6 f5) (f4 f3 (f2 f1))'"
      ]
     },
     "execution_count": 51,
     "metadata": {},
     "output_type": "execute_result"
    }
   ],
   "source": [
    "display_recursive_checkpoint(8)\n"
   ]
  },
  {
   "cell_type": "code",
   "execution_count": 54,
   "metadata": {},
   "outputs": [
    {
     "data": {
      "text/plain": [
       "'f16 f15 (f14 f13) (f12 f11 (f10 f9)) (f8 f7 (f6 f5) (f4 f3 (f2 f1)))'"
      ]
     },
     "execution_count": 54,
     "metadata": {},
     "output_type": "execute_result"
    }
   ],
   "source": [
    "display_recursive_checkpoint(16)"
   ]
  },
  {
   "cell_type": "code",
   "execution_count": null,
   "metadata": {},
   "outputs": [],
   "source": []
  }
 ],
 "metadata": {
  "kernelspec": {
   "display_name": "base",
   "language": "python",
   "name": "python3"
  },
  "language_info": {
   "codemirror_mode": {
    "name": "ipython",
    "version": 3
   },
   "file_extension": ".py",
   "mimetype": "text/x-python",
   "name": "python",
   "nbconvert_exporter": "python",
   "pygments_lexer": "ipython3",
   "version": "3.10.9"
  }
 },
 "nbformat": 4,
 "nbformat_minor": 2
}
